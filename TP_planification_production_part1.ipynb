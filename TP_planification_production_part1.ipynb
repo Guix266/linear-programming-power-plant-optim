{
 "cells": [
  {
   "cell_type": "markdown",
   "id": "6da3dea9-2542-488b-8be7-036f56dadb0f",
   "metadata": {},
   "source": [
    "# TD Optim Linéaire : Planification de la production d'électricité\n",
    "### Guillaume DESERMEAUX, Mastère OSE 2023\n",
    "(Sujet de Sophie demassey, CMA - Mines Paris-PSL) 5 Octobre 2023\n",
    "# Partie 1"
   ]
  },
  {
   "cell_type": "code",
   "execution_count": 1,
   "id": "b1ef02c7-59ca-4010-b861-089eab869125",
   "metadata": {},
   "outputs": [],
   "source": [
    "from itertools import product\n",
    "import pandas as pd\n",
    "import matplotlib.pyplot as plt\n",
    "\n",
    "import gurobipy as gp\n",
    "from gurobipy import  Model, GRB, multidict # Object utile pour créer des dictionnaires à partir d'une table"
   ]
  },
  {
   "cell_type": "markdown",
   "id": "1cc9d110-cb9e-4ce4-b8c0-e1a5daeb8060",
   "metadata": {},
   "source": [
    "# I.5) Implémentation du modèle de base\n",
    "On stocke les coefficients dans un multidict et crée un modèle GUROBI."
   ]
  },
  {
   "cell_type": "code",
   "execution_count": 2,
   "id": "0cc7941a-0962-4197-b9dc-95a565e4e18c",
   "metadata": {},
   "outputs": [
    {
     "name": "stdout",
     "output_type": "stream",
     "text": [
      "Set parameter TokenServer to value \"dev.cma.mines-paristech.fr\"\n"
     ]
    }
   ],
   "source": [
    "Periods, start_time, stop_time, duration, demand = multidict({\n",
    "    1: [\"0h\", \"6h\", 6, 15],\n",
    "    2: [\"6h\", \"9h\", 3, 30],\n",
    "    3: [\"9h\", \"15h\", 6, 25],\n",
    "    4: [\"15h\", \"18h\", 3, 40],\n",
    "    5: [\"18h\", \"0h\", 6, 27]\n",
    "})\n",
    "\n",
    "Centrales, Ndisp, P_min, P_max, cmw = multidict({\n",
    "    'A': [ 12, 850, 2000, 1.5],\n",
    "    'B': [ 10, 1250, 1750, 1.38],\n",
    "    'C': [5, 1500, 4000, 2.75]\n",
    "})\n",
    "\n",
    "Mw2Gw = lambda x : x / 1000\n",
    "Gw2Mw = lambda x : x * 1000\n",
    "\n",
    "# Create a new model\n",
    "m = gp.Model()"
   ]
  },
  {
   "cell_type": "code",
   "execution_count": 3,
   "id": "616d90a1-048c-4d31-bac0-86bdda729fe7",
   "metadata": {},
   "outputs": [],
   "source": [
    "# Create variables\n",
    "# Total thermal power of the plants A, B, C for every period\n",
    "Y = m.addVars(Periods, Centrales, \n",
    "              lb = 0,\n",
    "              #ub = [ Mw2Gw(P_max[c])*Ndisp[c] for c, p in product(Centrales, Periods) ],\n",
    "              name = 'Production',\n",
    "              vtype = GRB.CONTINUOUS)\n",
    "\n",
    "X = m.addVars(Periods, Centrales,\n",
    "              lb = 0,\n",
    "              ub = [ (Ndisp[c] for p in Periods for c in Centrales ) ],\n",
    "              name = 'Number_plants', \n",
    "              vtype = GRB.INTEGER)\n",
    "m.update()"
   ]
  },
  {
   "cell_type": "code",
   "execution_count": 4,
   "id": "98842d5f-ab7a-4ea1-8fb9-d5190a891305",
   "metadata": {},
   "outputs": [],
   "source": [
    "# Set objective function\n",
    "total_cost = sum( [ duration[p]*cmw[c]*Gw2Mw(Y[(p, c)]) for p in Periods for c in Centrales ] )\n",
    "obj = m.setObjective(total_cost, gp.GRB.MINIMIZE)\n",
    "#print(total_cost)"
   ]
  },
  {
   "cell_type": "code",
   "execution_count": 5,
   "id": "100c03cb-7e6f-4c2d-83ba-5fcfb0615bce",
   "metadata": {},
   "outputs": [],
   "source": [
    "# Add constraints\n",
    "# Demand on the network\n",
    "c_demand = m.addConstrs( ( Y.sum(p, '*') >= demand[p] \n",
    "                                   for p in Periods ), name = \"Demand\" ) \n",
    "# Power constraints on the plants\n",
    "c_p_min = m.addConstrs( (  Y[(p, c)] >= Mw2Gw(P_min[c])*X[(p, c)]\n",
    "                                  for c in Centrales for p in Periods ), name = \"Pmin\" )\n",
    "c_p_max = m.addConstrs( ( Y[(p, c)] <= Mw2Gw(P_max[c])*X[(p, c)] \n",
    "                                  for c in Centrales for p in Periods ), name = \"Pmax\" )\n",
    "m.update()"
   ]
  },
  {
   "cell_type": "code",
   "execution_count": 6,
   "id": "03c36a6d-c151-43a4-90b5-2c63cbf20fee",
   "metadata": {},
   "outputs": [
    {
     "name": "stdout",
     "output_type": "stream",
     "text": [
      "{1: <gurobi.Constr Demand[1]>, 2: <gurobi.Constr Demand[2]>, 3: <gurobi.Constr Demand[3]>, 4: <gurobi.Constr Demand[4]>, 5: <gurobi.Constr Demand[5]>}\n"
     ]
    }
   ],
   "source": [
    "print(c_demand)"
   ]
  },
  {
   "cell_type": "code",
   "execution_count": 7,
   "id": "6e960471-8eea-4dae-a368-40be88a3be65",
   "metadata": {},
   "outputs": [],
   "source": [
    "#for c in m.getConstrs():\n",
    "#    print(m.getRow(c))"
   ]
  },
  {
   "cell_type": "code",
   "execution_count": 8,
   "id": "379854e5-69e9-43ce-80de-ad74bc2405a2",
   "metadata": {},
   "outputs": [],
   "source": [
    "m.write(\"PowerOptim_MO.lp\")"
   ]
  },
  {
   "cell_type": "code",
   "execution_count": 9,
   "id": "f19d2798-f4b4-47e4-a57a-553770668894",
   "metadata": {},
   "outputs": [
    {
     "name": "stdout",
     "output_type": "stream",
     "text": [
      "Gurobi Optimizer version 10.0.2 build v10.0.2rc0 (win64)\n",
      "\n",
      "CPU model: 12th Gen Intel(R) Core(TM) i7-12700, instruction set [SSE2|AVX|AVX2]\n",
      "Thread count: 12 physical cores, 20 logical processors, using up to 20 threads\n",
      "\n",
      "Optimize a model with 35 rows, 30 columns and 75 nonzeros\n",
      "Model fingerprint: 0x30e2df03\n",
      "Variable types: 15 continuous, 15 integer (0 binary)\n",
      "Coefficient statistics:\n",
      "  Matrix range     [8e-01, 4e+00]\n",
      "  Objective range  [4e+03, 2e+04]\n",
      "  Bounds range     [5e+00, 1e+01]\n",
      "  RHS range        [2e+01, 4e+01]\n",
      "Found heuristic solution: objective 1379250.0000\n",
      "Presolve removed 28 rows and 24 columns\n",
      "Presolve time: 0.01s\n",
      "Presolved: 7 rows, 6 columns, 15 nonzeros\n",
      "Found heuristic solution: objective 940650.00000\n",
      "Variable types: 3 continuous, 3 integer (0 binary)\n",
      "\n",
      "Root relaxation: objective 8.694000e+05, 3 iterations, 0.00 seconds (0.00 work units)\n",
      "\n",
      "    Nodes    |    Current Node    |     Objective Bounds      |     Work\n",
      " Expl Unexpl |  Obj  Depth IntInf | Incumbent    BestBd   Gap | It/Node Time\n",
      "\n",
      "     0     0 869400.000    0    1 940650.000 869400.000  7.57%     -    0s\n",
      "H    0     0                    869400.00000 869400.000  0.00%     -    0s\n",
      "     0     0 869400.000    0    1 869400.000 869400.000  0.00%     -    0s\n",
      "\n",
      "Explored 1 nodes (3 simplex iterations) in 0.02 seconds (0.00 work units)\n",
      "Thread count was 20 (of 20 available processors)\n",
      "\n",
      "Solution count 3: 869400 940650 1.37925e+06 \n",
      "\n",
      "Optimal solution found (tolerance 1.00e-04)\n",
      "Best objective 8.694000000000e+05, best bound 8.694000000000e+05, gap 0.0000%\n"
     ]
    }
   ],
   "source": [
    "m.optimize()"
   ]
  },
  {
   "cell_type": "code",
   "execution_count": 10,
   "id": "fc97c6a1-fbcc-43c3-b03d-03c6f47c6ddb",
   "metadata": {},
   "outputs": [
    {
     "name": "stdout",
     "output_type": "stream",
     "text": [
      "{'obj': 869400.0, 'lb': 869400.0, 'gap': 0.0, 'time': 0.01699995994567871}\n",
      "plan to activate units: {'A': [0, 12, 4, 12, 5], 'B': [9, 10, 10, 10, 10], 'C': [0, 0, 0, 0, 0]}\n"
     ]
    },
    {
     "data": {
      "image/png": "[encoded data removed]",
      "text/plain": [
       "<Figure size 1200x400 with 1 Axes>"
      ]
     },
     "metadata": {},
     "output_type": "display_data"
    }
   ],
   "source": [
    "# solution characteristics\n",
    "result = {'obj': m.objVal, 'lb': m.objBound,  'gap': m.mipGap, 'time': m.runtime}\n",
    "print(result)\n",
    "\n",
    "# optimal plan\n",
    "ndict = {t: [int(v.x) for v in X.select('*', t)] for t in Centrales}\n",
    "print(f\"plan to activate units: {ndict}\")\n",
    "\n",
    "orderedgen = sorted(Centrales, key=lambda x: cmw[x])\n",
    "pdict = {t: [v.x for v in Y.select('*', t)] for t in orderedgen}\n",
    "powerdf = pd.DataFrame(data=pdict)\n",
    "\n",
    "fig, axs = plt.subplots(figsize=(12, 4))\n",
    "powerdf.plot.bar(stacked=True, ax=axs)\n",
    "axs.set_ylabel(\"power output (MW)\")\n",
    "fig.savefig(\"powergen_1.5.png\")\n",
    "plt.show()"
   ]
  },
  {
   "cell_type": "markdown",
   "id": "11898891-7266-46b5-8993-750ca9d6a5b7",
   "metadata": {},
   "source": [
    "Implémenter le modèle mathématique (1.1). Ce programme mathématique comprend-il des variables\r\n",
    "discrètes ? Le cas échéant, identi\u001c",
    "er, décrire et comparer les valeurs best objective, best bound, root relaxa-\r\n",
    "tion objective et heuristic solution retournées par Gurobi. Lesquelles parmi ces valeurs sont des bornes\r\n",
    "inférieures (ou bornes duales) ou supérieures (ou bornes primales ) de l'optimum global ? Ce modèle\r\n",
    "possède-t-il la propriété d'unimodularité ?"
   ]
  },
  {
   "cell_type": "markdown",
   "id": "e3bff40d-0b45-43da-8920-62600346d4c6",
   "metadata": {},
   "source": [
    "On obtient les résultats suivants : \n",
    "- Best objective 8.694000000000e+05, (Le coût minimal trouvé à la fin de l'optimisation) C'est une borne supérieure (borne primale)\n",
    "- best bound 8.694000000000e+05, (Le coût du meilleur minimum trouvé. Ici le min) C'est une borne inférieures (borne duale)\n",
    "- root relaxation objective 8.694000e+05 (Le résultat du problème relaxé donc sans les contraintes d'intégralité) C'est une borne inférieures (borne duale)\n",
    "- Found heuristic solution: objective 1379250.0000 ( C'est une solution trouvé avec une contrainte de temps. Elle n'est donc pas optimale)  \n",
    "\n",
    "Le modèle possède la propriété d'unimodularité car la solution du problème relaxé est entière.\n",
    "\n",
    "# I.6) Implémentation de la relaxation continue"
   ]
  },
  {
   "cell_type": "code",
   "execution_count": 11,
   "id": "bb448211-cd93-4414-a46c-ceacc793cdb7",
   "metadata": {},
   "outputs": [
    {
     "name": "stdout",
     "output_type": "stream",
     "text": [
      "Gurobi Optimizer version 10.0.2 build v10.0.2rc0 (win64)\n",
      "\n",
      "CPU model: 12th Gen Intel(R) Core(TM) i7-12700, instruction set [SSE2|AVX|AVX2]\n",
      "Thread count: 12 physical cores, 20 logical processors, using up to 20 threads\n",
      "\n",
      "Optimize a model with 35 rows, 30 columns and 75 nonzeros\n",
      "Model fingerprint: 0xef7d53e2\n",
      "Coefficient statistics:\n",
      "  Matrix range     [8e-01, 4e+00]\n",
      "  Objective range  [4e+03, 2e+04]\n",
      "  Bounds range     [5e+00, 1e+01]\n",
      "  RHS range        [2e+01, 4e+01]\n",
      "Presolve removed 31 rows and 18 columns\n",
      "Presolve time: 0.00s\n",
      "Presolved: 4 rows, 12 columns, 12 nonzeros\n",
      "\n",
      "Iteration    Objective       Primal Inf.    Dual Inf.      Time\n",
      "       0    1.7370000e+05   4.850000e+01   0.000000e+00      0s\n",
      "       4    8.6940000e+05   0.000000e+00   0.000000e+00      0s\n",
      "\n",
      "Solved in 4 iterations and 0.01 seconds (0.00 work units)\n",
      "Optimal objective  8.694000000e+05\n"
     ]
    }
   ],
   "source": [
    "m_relax = m.relax()\n",
    "m_relax.optimize()"
   ]
  },
  {
   "cell_type": "code",
   "execution_count": 12,
   "id": "9fcefcf3-8c2c-4932-9f64-7f8dee8333fe",
   "metadata": {},
   "outputs": [
    {
     "name": "stdout",
     "output_type": "stream",
     "text": [
      "plan to activate units: {'A': [0, 12, 4, 12, 5], 'B': [9, 10, 10, 10, 10], 'C': [0, 0, 0, 0, 0]}\n"
     ]
    }
   ],
   "source": [
    "# optimal plan\n",
    "ndict = {t: [int(v.x) for v in X.select('*', t)] for t in Centrales}\n",
    "print(f\"plan to activate units: {ndict}\")"
   ]
  },
  {
   "cell_type": "markdown",
   "id": "d446884e-ac04-4b0b-8ac9-5f5a3522cadd",
   "metadata": {},
   "source": [
    "### Explication :\n",
    "- On trouve les mêmes valeurs d'optimum pour le problème relaxé et discret. Ceci est logique car la valeur de relaxation continue est entière.\n",
    "- La valeur initiale à la racine du modèle discrêt est de 1379250.0000. Elle est bien supérieure à la valeur de la relaxation continue car c'est la valeur de coût avant l'optimisation.\n",
    "- On prouve que le merit order est bien optimale dans ce cas car on a le même résultat que celui calculé théoriquement au 1.2.\n",
    "\n",
    "# I.7) Reformulation de la relaxation continue"
   ]
  },
  {
   "cell_type": "code",
   "execution_count": 13,
   "id": "d492e631-f5aa-47bc-9e1d-fa3e06b7bbb7",
   "metadata": {},
   "outputs": [
    {
     "name": "stdout",
     "output_type": "stream",
     "text": [
      "Gurobi Optimizer version 10.0.2 build v10.0.2rc0 (win64)\n",
      "\n",
      "CPU model: 12th Gen Intel(R) Core(TM) i7-12700, instruction set [SSE2|AVX|AVX2]\n",
      "Thread count: 12 physical cores, 20 logical processors, using up to 20 threads\n",
      "\n",
      "Optimize a model with 20 rows, 15 columns and 30 nonzeros\n",
      "Model fingerprint: 0x94cf7827\n",
      "Coefficient statistics:\n",
      "  Matrix range     [1e+00, 1e+00]\n",
      "  Objective range  [4e+03, 2e+04]\n",
      "  Bounds range     [0e+00, 0e+00]\n",
      "  RHS range        [2e+01, 4e+01]\n",
      "Presolve removed 16 rows and 3 columns\n",
      "Presolve time: 0.00s\n",
      "Presolved: 4 rows, 12 columns, 12 nonzeros\n",
      "\n",
      "Iteration    Objective       Primal Inf.    Dual Inf.      Time\n",
      "       0    1.7370000e+05   4.850000e+01   0.000000e+00      0s\n",
      "       4    8.6940000e+05   0.000000e+00   0.000000e+00      0s\n",
      "\n",
      "Solved in 4 iterations and 0.00 seconds (0.00 work units)\n",
      "Optimal objective  8.694000000e+05\n"
     ]
    }
   ],
   "source": [
    "## Create a new model\n",
    "m2 = gp.Model()\n",
    "# Total thermal power of the plants A, B, C for every period\n",
    "Y = m2.addVars(Periods, Centrales,\n",
    "              name = 'Production',\n",
    "              vtype = GRB.CONTINUOUS)\n",
    "## Set objective function\n",
    "total_cost = sum( [ duration[p]*cmw[c]*Gw2Mw(Y[(p, c)]) for p in Periods for c in Centrales ] )\n",
    "obj = m2.setObjective(total_cost, gp.GRB.MINIMIZE)\n",
    "## Add constraints\n",
    "# Demand on the network\n",
    "c_demand = m2.addConstrs( ( Y.sum(p, '*') >= demand[p] \n",
    "                for p in Periods ), name = \"Demand\" ) \n",
    "# Power constraints on the plants\n",
    "c_p_max = m2.addConstrs( ( Y[(p, c)] <= Mw2Gw(P_max[c])*Ndisp[c]\n",
    "                for c in Centrales for p in Periods ), name = \"Pmax\" )\n",
    "## optimize\n",
    "m2.update()\n",
    "m2.optimize()"
   ]
  },
  {
   "cell_type": "code",
   "execution_count": 14,
   "id": "e23aac78-dc9e-4f40-94ec-7d045dbdbfe4",
   "metadata": {},
   "outputs": [
    {
     "name": "stdout",
     "output_type": "stream",
     "text": [
      "plan to activate units: {'A': [0, 12, 4, 12, 5], 'B': [9, 10, 10, 10, 10], 'C': [0, 0, 0, 0, 0]}\n"
     ]
    }
   ],
   "source": [
    "# optimal plan\n",
    "ndict = {t: [int(v.x) for v in X.select('*', t)] for t in Centrales}\n",
    "print(f\"plan to activate units: {ndict}\")"
   ]
  },
  {
   "cell_type": "markdown",
   "id": "5247e7f3-99f9-49bc-aa4a-b8d5997d3b15",
   "metadata": {},
   "source": [
    "On trouve les mêmes résultats que précédement.\n",
    "\n",
    "On a une variante du problème du sac a dos mais dans le cas ou on minimise le coût et on contraint sur une demande minimale (Au lieux de maximiser l'utilité et de contraindre sur la capacité max). Les coût marginaux "
   ]
  },
  {
   "cell_type": "code",
   "execution_count": 15,
   "id": "efdfeeeb-28f0-4580-a42d-43a3bf64b16b",
   "metadata": {},
   "outputs": [],
   "source": [
    "shadow_price = m2.getAttr('Pi', m2.getConstrs())"
   ]
  },
  {
   "cell_type": "code",
   "execution_count": 16,
   "id": "c08149e0-cddf-4c0a-b7b2-ae6cfc52e54a",
   "metadata": {},
   "outputs": [
    {
     "name": "stdout",
     "output_type": "stream",
     "text": [
      "Shadow price of <gurobi.Constr Demand[1]> is 8280.0\n",
      "Shadow price of <gurobi.Constr Demand[2]> is 4500.0\n",
      "Shadow price of <gurobi.Constr Demand[3]> is 9000.0\n",
      "Shadow price of <gurobi.Constr Demand[4]> is 4500.0\n",
      "Shadow price of <gurobi.Constr Demand[5]> is 9000.0\n",
      "Shadow price of <gurobi.Constr Pmax[A,1]> is 0.0\n",
      "Shadow price of <gurobi.Constr Pmax[A,2]> is 0.0\n",
      "Shadow price of <gurobi.Constr Pmax[A,3]> is 0.0\n",
      "Shadow price of <gurobi.Constr Pmax[A,4]> is 0.0\n",
      "Shadow price of <gurobi.Constr Pmax[A,5]> is 0.0\n",
      "Shadow price of <gurobi.Constr Pmax[B,1]> is 0.0\n",
      "Shadow price of <gurobi.Constr Pmax[B,2]> is -360.0\n",
      "Shadow price of <gurobi.Constr Pmax[B,3]> is -720.0\n",
      "Shadow price of <gurobi.Constr Pmax[B,4]> is -360.0\n",
      "Shadow price of <gurobi.Constr Pmax[B,5]> is -720.0\n",
      "Shadow price of <gurobi.Constr Pmax[C,1]> is 0.0\n",
      "Shadow price of <gurobi.Constr Pmax[C,2]> is 0.0\n",
      "Shadow price of <gurobi.Constr Pmax[C,3]> is 0.0\n",
      "Shadow price of <gurobi.Constr Pmax[C,4]> is 0.0\n",
      "Shadow price of <gurobi.Constr Pmax[C,5]> is 0.0\n"
     ]
    }
   ],
   "source": [
    "# Coûts marginaux :\n",
    "for sp, constr in zip(shadow_price, m2.getConstrs()):\n",
    "    print(f\"Shadow price of {constr} is {sp}\")"
   ]
  },
  {
   "cell_type": "code",
   "execution_count": 17,
   "id": "7c5f5f5c-a7ce-4a1b-9503-a55b54b13db6",
   "metadata": {},
   "outputs": [
    {
     "name": "stdout",
     "output_type": "stream",
     "text": [
      "Variables d'écart de la contrainte <gurobi.Constr Demand[1]> est 0.0\n",
      "Variables d'écart de la contrainte <gurobi.Constr Demand[2]> est 0.0\n",
      "Variables d'écart de la contrainte <gurobi.Constr Demand[3]> est 0.0\n",
      "Variables d'écart de la contrainte <gurobi.Constr Demand[4]> est 0.0\n",
      "Variables d'écart de la contrainte <gurobi.Constr Demand[5]> est 0.0\n",
      "Variables d'écart de la contrainte <gurobi.Constr Pmax[A,1]> est 24.0\n",
      "Variables d'écart de la contrainte <gurobi.Constr Pmax[A,2]> est 11.5\n",
      "Variables d'écart de la contrainte <gurobi.Constr Pmax[A,3]> est 16.5\n",
      "Variables d'écart de la contrainte <gurobi.Constr Pmax[A,4]> est 1.5\n",
      "Variables d'écart de la contrainte <gurobi.Constr Pmax[A,5]> est 14.5\n",
      "Variables d'écart de la contrainte <gurobi.Constr Pmax[B,1]> est 2.5\n",
      "Variables d'écart de la contrainte <gurobi.Constr Pmax[B,2]> est 0.0\n",
      "Variables d'écart de la contrainte <gurobi.Constr Pmax[B,3]> est 0.0\n",
      "Variables d'écart de la contrainte <gurobi.Constr Pmax[B,4]> est 0.0\n",
      "Variables d'écart de la contrainte <gurobi.Constr Pmax[B,5]> est 0.0\n",
      "Variables d'écart de la contrainte <gurobi.Constr Pmax[C,1]> est 20.0\n",
      "Variables d'écart de la contrainte <gurobi.Constr Pmax[C,2]> est 20.0\n",
      "Variables d'écart de la contrainte <gurobi.Constr Pmax[C,3]> est 20.0\n",
      "Variables d'écart de la contrainte <gurobi.Constr Pmax[C,4]> est 20.0\n",
      "Variables d'écart de la contrainte <gurobi.Constr Pmax[C,5]> est 20.0\n"
     ]
    }
   ],
   "source": [
    "# Valeurs des variables d'écart\n",
    "for sp, constr in zip(m2.getAttr(GRB.Attr.Slack),  m2.getConstrs()):\n",
    "    print(f\"Variables d'écart de la contrainte {constr} est {sp}\")"
   ]
  },
  {
   "cell_type": "code",
   "execution_count": 18,
   "id": "b0691d58-41a6-4adc-967a-6cd7dc7a1cf6",
   "metadata": {},
   "outputs": [
    {
     "name": "stdout",
     "output_type": "stream",
     "text": [
      "Reduced cost of Puissance(1, 'A') is 720.0\n",
      "Reduced cost of Puissance(1, 'B') is 0.0\n",
      "Reduced cost of Puissance(1, 'C') is 8220.0\n",
      "Reduced cost of Puissance(2, 'A') is 0.0\n",
      "Reduced cost of Puissance(2, 'B') is 0.0\n",
      "Reduced cost of Puissance(2, 'C') is 3750.0\n",
      "Reduced cost of Puissance(3, 'A') is 0.0\n",
      "Reduced cost of Puissance(3, 'B') is 0.0\n",
      "Reduced cost of Puissance(3, 'C') is 7500.0\n",
      "Reduced cost of Puissance(4, 'A') is 0.0\n",
      "Reduced cost of Puissance(4, 'B') is 0.0\n",
      "Reduced cost of Puissance(4, 'C') is 3750.0\n",
      "Reduced cost of Puissance(5, 'A') is 0.0\n",
      "Reduced cost of Puissance(5, 'B') is 0.0\n",
      "Reduced cost of Puissance(5, 'C') is 7500.0\n"
     ]
    }
   ],
   "source": [
    "# Coûts réduits : ( De combien le prix de la centrale doit baisser sur la période pour qu'elle s'allume )\n",
    "# \n",
    "for sp, constr in zip(m2.getAttr(GRB.Attr.RC), Y):\n",
    "    print(f\"Reduced cost of Puissance{constr} is {sp}\")"
   ]
  }
 ],
 "metadata": {
  "kernelspec": {
   "display_name": "Python 3 (ipykernel)",
   "language": "python",
   "name": "python3"
  },
  "language_info": {
   "codemirror_mode": {
    "name": "ipython",
    "version": 3
   },
   "file_extension": ".py",
   "mimetype": "text/x-python",
   "name": "python",
   "nbconvert_exporter": "python",
   "pygments_lexer": "ipython3",
   "version": "3.11.4"
  }
 },
 "nbformat": 4,
 "nbformat_minor": 5
}
