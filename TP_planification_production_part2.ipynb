{
 "cells": [
  {
   "cell_type": "markdown",
   "id": "6da3dea9-2542-488b-8be7-036f56dadb0f",
   "metadata": {},
   "source": [
    "# TD Optim Linéaire : Planification de la production d'électricité\n",
    "### Guillaume DESERMEAUX, Mastère OSE 2023\n",
    "(Sujet de Sophie demassey, CMA - Mines Paris-PSL) 5 Octobre 2023\n",
    "# Partie 2"
   ]
  },
  {
   "cell_type": "code",
   "execution_count": 1,
   "id": "b1ef02c7-59ca-4010-b861-089eab869125",
   "metadata": {},
   "outputs": [],
   "source": [
    "from itertools import product\n",
    "import pandas as pd\n",
    "import matplotlib.pyplot as plt\n",
    "\n",
    "import gurobipy as gp\n",
    "from gurobipy import  Model, GRB, multidict # Object utile pour créer des dictionnaires à partir d'une table"
   ]
  },
  {
   "cell_type": "code",
   "execution_count": 2,
   "id": "0cc7941a-0962-4197-b9dc-95a565e4e18c",
   "metadata": {},
   "outputs": [],
   "source": [
    "Periods, start_time, stop_time, duration, demand = multidict({\n",
    "    1: [\"0h\", \"6h\", 6, 15],\n",
    "    2: [\"6h\", \"9h\", 3, 30],\n",
    "    3: [\"9h\", \"15h\", 6, 25],\n",
    "    4: [\"15h\", \"18h\", 3, 40],\n",
    "    5: [\"18h\", \"0h\", 6, 27]\n",
    "})\n",
    "\n",
    "Centrales, Ndisp, P_min, P_max, cbase, cvar, cdem, mycolor = multidict({\n",
    "    'A': [ 12, 850, 2000, 1000, 2, 2000, 'r'],\n",
    "    'B': [ 10, 1250, 1750, 2600, 1.3, 1000, 'g'],\n",
    "    'C': [5, 1500, 4000, 3000, 3, 500, 'b']\n",
    "})\n",
    "\n",
    "Mw2Gw = lambda x : x / 1000\n",
    "Gw2Mw = lambda x : x * 1000"
   ]
  },
  {
   "cell_type": "markdown",
   "id": "1cc9d110-cb9e-4ce4-b8c0-e1a5daeb8060",
   "metadata": {},
   "source": [
    "# II.1) Coût de fonctionnement en plus\n",
    "On modifie la fonction de coût en ajoutant le fonctionnement des centrales à Pmin pendant la première heure d'activation.\n",
    "Dans ce nouveau cas, les variables de Puissance Y représentent la puissance des centrales après la période d'allumage.\n",
    "Dans ce cas la contrainte de demande change aussi"
   ]
  },
  {
   "cell_type": "code",
   "execution_count": 3,
   "id": "616d90a1-048c-4d31-bac0-86bdda729fe7",
   "metadata": {},
   "outputs": [
    {
     "name": "stdout",
     "output_type": "stream",
     "text": [
      "Set parameter TokenServer to value \"dev.cma.mines-paristech.fr\"\n"
     ]
    }
   ],
   "source": [
    "# Create a new model\n",
    "m = gp.Model()\n",
    "\n",
    "## Create variables\n",
    "# Total thermal power of the plants A, B, C for every period\n",
    "Y = m.addVars(Periods, Centrales, \n",
    "              lb = 0,\n",
    "              #ub = [ Mw2Gw(P_max[c])*Ndisp[c] for c, p in product(Centrales, Periods) ],\n",
    "              name = 'Production',\n",
    "              vtype = GRB.CONTINUOUS)\n",
    "\n",
    "X = m.addVars(Periods, Centrales,\n",
    "              lb = 0,\n",
    "              ub = [ (Ndisp[c] for p in Periods for c in Centrales ) ],\n",
    "              name = 'Number_plants', \n",
    "              vtype = GRB.INTEGER)\n",
    "\n",
    "## Set objective function\n",
    "total_cost = sum( [ duration[p]*(X[(p, c)]*(cbase[c] - cvar[c]*P_min[c]) + cvar[c]*Gw2Mw(Y[(p, c)]))\n",
    "                        for p in Periods for c in Centrales ] )\n",
    "obj = m.setObjective(total_cost, gp.GRB.MINIMIZE)\n",
    "\n",
    "## Add constraints\n",
    "# Demand on the network\n",
    "c_demand = m.addConstrs( ( Y.sum(p, '*') >= demand[p] \n",
    "                                   for p in Periods ), name = \"Demand\" ) \n",
    "# Power constraints on the plants\n",
    "c_p_min = m.addConstrs( (  Y[(p, c)] >= Mw2Gw(P_min[c])*X[(p, c)]\n",
    "                                  for c in Centrales for p in Periods ), name = \"Pmin\" )\n",
    "c_p_max = m.addConstrs( ( Y[(p, c)] <= Mw2Gw(P_max[c])*X[(p, c)] \n",
    "                                  for c in Centrales for p in Periods ), name = \"Pmax\" )\n",
    "m.update()"
   ]
  },
  {
   "cell_type": "code",
   "execution_count": 4,
   "id": "379854e5-69e9-43ce-80de-ad74bc2405a2",
   "metadata": {},
   "outputs": [],
   "source": [
    "m.write(\"PowerOptim0.lp\")"
   ]
  },
  {
   "cell_type": "code",
   "execution_count": 5,
   "id": "f19d2798-f4b4-47e4-a57a-553770668894",
   "metadata": {},
   "outputs": [
    {
     "name": "stdout",
     "output_type": "stream",
     "text": [
      "Gurobi Optimizer version 10.0.2 build v10.0.2rc0 (win64)\n",
      "\n",
      "CPU model: 12th Gen Intel(R) Core(TM) i7-12700, instruction set [SSE2|AVX|AVX2]\n",
      "Thread count: 12 physical cores, 20 logical processors, using up to 20 threads\n",
      "\n",
      "Optimize a model with 35 rows, 30 columns and 75 nonzeros\n",
      "Model fingerprint: 0x1af676bf\n",
      "Variable types: 15 continuous, 15 integer (0 binary)\n",
      "Coefficient statistics:\n",
      "  Matrix range     [8e-01, 4e+00]\n",
      "  Objective range  [2e+03, 2e+04]\n",
      "  Bounds range     [5e+00, 1e+01]\n",
      "  RHS range        [2e+01, 4e+01]\n",
      "Found heuristic solution: objective 1379850.0000\n",
      "Presolve removed 28 rows and 24 columns\n",
      "Presolve time: 0.00s\n",
      "Presolved: 7 rows, 6 columns, 15 nonzeros\n",
      "Found heuristic solution: objective 1039800.0000\n",
      "Variable types: 3 continuous, 3 integer (0 binary)\n",
      "\n",
      "Root relaxation: objective 9.780000e+05, 3 iterations, 0.00 seconds (0.00 work units)\n",
      "\n",
      "    Nodes    |    Current Node    |     Objective Bounds      |     Work\n",
      " Expl Unexpl |  Obj  Depth IntInf | Incumbent    BestBd   Gap | It/Node Time\n",
      "\n",
      "     0     0 978000.000    0    1 1039800.00 978000.000  5.94%     -    0s\n",
      "H    0     0                    980340.00000 978000.000  0.24%     -    0s\n",
      "H    0     0                    978900.00000 978000.000  0.09%     -    0s\n",
      "\n",
      "Cutting planes:\n",
      "  MIR: 1\n",
      "\n",
      "Explored 1 nodes (3 simplex iterations) in 0.01 seconds (0.00 work units)\n",
      "Thread count was 20 (of 20 available processors)\n",
      "\n",
      "Solution count 4: 978900 980340 1.0398e+06 1.37985e+06 \n",
      "\n",
      "Optimal solution found (tolerance 1.00e-04)\n",
      "Best objective 9.789000000000e+05, best bound 9.789000000000e+05, gap 0.0000%\n"
     ]
    }
   ],
   "source": [
    "m.optimize()"
   ]
  },
  {
   "cell_type": "code",
   "execution_count": 6,
   "id": "fc97c6a1-fbcc-43c3-b03d-03c6f47c6ddb",
   "metadata": {},
   "outputs": [
    {
     "name": "stdout",
     "output_type": "stream",
     "text": [
      "{'obj': 978900.0, 'lb': 978900.0, 'gap': 0.0, 'time': 0.01399993896484375}\n",
      "plan to activate units: {'A': [12, 12, 12, 12, 12], 'B': [2, 10, 8, 10, 9], 'C': [0, 0, 0, 0, 0]}\n"
     ]
    },
    {
     "data": {
      "image/png": "[encoded data removed]",
      "text/plain": [
       "<Figure size 1200x400 with 1 Axes>"
      ]
     },
     "metadata": {},
     "output_type": "display_data"
    }
   ],
   "source": [
    "# solution characteristics\n",
    "result = {'obj': m.objVal, 'lb': m.objBound,  'gap': m.mipGap, 'time': m.runtime}\n",
    "print(result)\n",
    "\n",
    "# optimal plan\n",
    "ndict = {t: [int(v.x) for v in X.select('*', t)] for t in Centrales}\n",
    "print(f\"plan to activate units: {ndict}\")\n",
    "\n",
    "orderedgen = sorted(Centrales, key=lambda x: cvar[x])\n",
    "pdict = {t: [v.x for v in Y.select('*', t)] for t in orderedgen}\n",
    "powerdf = pd.DataFrame(data=pdict)\n",
    "\n",
    "fig, axs = plt.subplots(figsize=(12, 4))\n",
    "powerdf.plot.bar(stacked=True, ax=axs)\n",
    "axs.set_ylabel(\"power output (MW)\")\n",
    "fig.savefig(\"powergen_2.1.png\")\n",
    "plt.show()"
   ]
  },
  {
   "cell_type": "markdown",
   "id": "7622fe9a-be10-4f8f-8713-d1b3e14646aa",
   "metadata": {},
   "source": [
    "## II.2) Cout de démarrage "
   ]
  },
  {
   "cell_type": "code",
   "execution_count": 8,
   "id": "93c4a22f-7e51-4b63-9cd7-f3711c9910de",
   "metadata": {},
   "outputs": [],
   "source": [
    "# Create a new model\n",
    "m2 = gp.Model()\n",
    "\n",
    "## Create variables\n",
    "# Total thermal power of the plants A, B, C for every period\n",
    "Y = m2.addVars(Periods, Centrales, \n",
    "              lb = 0,\n",
    "              #ub = [ Mw2Gw(P_max[c])*Ndisp[c] for c, p in product(Centrales, Periods) ],\n",
    "              name = 'Production',\n",
    "              vtype = GRB.CONTINUOUS)\n",
    "\n",
    "X = m2.addVars(Periods, Centrales,\n",
    "              lb = 0,\n",
    "              ub = [ (Ndisp[c] for p in Periods for c in Centrales ) ],\n",
    "              name = 'Number_plants', \n",
    "              vtype = GRB.INTEGER)\n",
    "\n",
    "## Set objective function\n",
    "total_cost = gp.quicksum( [ duration[p]*(X[(p, c)]*(cbase[c] - cvar[c]*P_min[c]) + cvar[c]*Gw2Mw(Y[(p, c)])) \n",
    "                    for p in Periods for c in Centrales ] ) \n",
    "total_cost += gp.quicksum( [ cbase[c]*(X[(1, c)] + X[(p, c)] - X[(p-1, c)])\n",
    "                    for p in Periods[1:] for c in Centrales ] )\n",
    "obj = m2.setObjective(total_cost, gp.GRB.MINIMIZE)\n",
    "\n",
    "## Add constraints\n",
    "# Demand on the network\n",
    "c_demand = m2.addConstrs( ( Y.sum(p, '*') >= demand[p] \n",
    "                                   for p in Periods ), name = \"Demand\" ) \n",
    "# Power constraints on the plants\n",
    "c_p_min = m2.addConstrs( (  Y[(p, c)] >= Mw2Gw(P_min[c])*X[(p, c)]\n",
    "                                  for c in Centrales for p in Periods ), name = \"Pmin\" )\n",
    "c_p_max = m2.addConstrs( ( Y[(p, c)] <= Mw2Gw(P_max[c])*X[(p, c)] \n",
    "                                  for c in Centrales for p in Periods ), name = \"Pmax\" )\n",
    "m2.update()"
   ]
  },
  {
   "cell_type": "code",
   "execution_count": 9,
   "id": "5c027301-132f-40ce-9f1c-09e70e9f7af1",
   "metadata": {},
   "outputs": [
    {
     "name": "stdout",
     "output_type": "stream",
     "text": [
      "Gurobi Optimizer version 10.0.2 build v10.0.2rc0 (win64)\n",
      "\n",
      "CPU model: 12th Gen Intel(R) Core(TM) i7-12700, instruction set [SSE2|AVX|AVX2]\n",
      "Thread count: 12 physical cores, 20 logical processors, using up to 20 threads\n",
      "\n",
      "Optimize a model with 35 rows, 30 columns and 75 nonzeros\n",
      "Model fingerprint: 0x64bef374\n",
      "Variable types: 15 continuous, 15 integer (0 binary)\n",
      "Coefficient statistics:\n",
      "  Matrix range     [8e-01, 4e+00]\n",
      "  Objective range  [1e+03, 2e+04]\n",
      "  Bounds range     [5e+00, 1e+01]\n",
      "  RHS range        [2e+01, 4e+01]\n",
      "Found heuristic solution: objective 1465850.0000\n",
      "Presolve removed 28 rows and 24 columns\n",
      "Presolve time: 0.01s\n",
      "Presolved: 7 rows, 6 columns, 15 nonzeros\n",
      "Found heuristic solution: objective 1119800.0000\n",
      "Variable types: 3 continuous, 3 integer (0 binary)\n",
      "\n",
      "Root relaxation: objective 1.045286e+06, 4 iterations, 0.00 seconds (0.00 work units)\n",
      "\n",
      "    Nodes    |    Current Node    |     Objective Bounds      |     Work\n",
      " Expl Unexpl |  Obj  Depth IntInf | Incumbent    BestBd   Gap | It/Node Time\n",
      "\n",
      "     0     0 1045285.71    0    1 1119800.00 1045285.71  6.65%     -    0s\n",
      "H    0     0                    1047700.0000 1045285.71  0.23%     -    0s\n",
      "H    0     0                    1045600.0000 1045285.71  0.03%     -    0s\n",
      "\n",
      "Explored 1 nodes (4 simplex iterations) in 0.02 seconds (0.00 work units)\n",
      "Thread count was 20 (of 20 available processors)\n",
      "\n",
      "Solution count 3: 1.0456e+06 1.1198e+06 1.46585e+06 \n",
      "\n",
      "Optimal solution found (tolerance 1.00e-04)\n",
      "Best objective 1.045600000000e+06, best bound 1.045600000000e+06, gap 0.0000%\n"
     ]
    }
   ],
   "source": [
    "m2.optimize()"
   ]
  },
  {
   "cell_type": "code",
   "execution_count": null,
   "id": "1806e246-6015-4430-9ba6-30029a24566a",
   "metadata": {},
   "outputs": [],
   "source": []
  }
 ],
 "metadata": {
  "kernelspec": {
   "display_name": "Python 3 (ipykernel)",
   "language": "python",
   "name": "python3"
  },
  "language_info": {
   "codemirror_mode": {
    "name": "ipython",
    "version": 3
   },
   "file_extension": ".py",
   "mimetype": "text/x-python",
   "name": "python",
   "nbconvert_exporter": "python",
   "pygments_lexer": "ipython3",
   "version": "3.11.4"
  }
 },
 "nbformat": 4,
 "nbformat_minor": 5
}
