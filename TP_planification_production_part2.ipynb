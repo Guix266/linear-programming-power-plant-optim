{
 "cells": [
  {
   "cell_type": "markdown",
   "id": "6da3dea9-2542-488b-8be7-036f56dadb0f",
   "metadata": {},
   "source": [
    "# TD Optim Linéaire : Planification de la production d'électricité\n",
    "### Guillaume DESERMEAUX, Mastère OSE 2023\n",
    "(Sujet de Sophie demassey, CMA - Mines Paris-PSL) 5 Octobre 2023\n",
    "# Partie 2"
   ]
  },
  {
   "cell_type": "code",
   "execution_count": 1,
   "id": "b1ef02c7-59ca-4010-b861-089eab869125",
   "metadata": {},
   "outputs": [],
   "source": [
    "from itertools import product\n",
    "import pandas as pd\n",
    "import matplotlib.pyplot as plt\n",
    "\n",
    "import gurobipy as gp\n",
    "from gurobipy import  Model, GRB, multidict # Object utile pour créer des dictionnaires à partir d'une table"
   ]
  },
  {
   "cell_type": "code",
   "execution_count": 2,
   "id": "0cc7941a-0962-4197-b9dc-95a565e4e18c",
   "metadata": {},
   "outputs": [],
   "source": [
    "Periods, start_time, stop_time, duration, demand = multidict({\n",
    "    1: [\"0h\", \"6h\", 6, 15],\n",
    "    2: [\"6h\", \"9h\", 3, 30],\n",
    "    3: [\"9h\", \"15h\", 6, 25],\n",
    "    4: [\"15h\", \"18h\", 3, 40],\n",
    "    5: [\"18h\", \"0h\", 6, 27]\n",
    "})\n",
    "\n",
    "Centrales, Ndisp, P_min, P_max, cbase, cvar, cdem, mycolor = multidict({\n",
    "    'A': [ 12, 850, 2000, 1000, 2, 2000, 'r'],\n",
    "    'B': [ 10, 1250, 1750, 2600, 1.3, 1000, 'g'],\n",
    "    'C': [5, 1500, 4000, 3000, 3, 500, 'b']\n",
    "})\n",
    "\n",
    "Mw2Gw = lambda x : x / 1000\n",
    "Gw2Mw = lambda x : x * 1000"
   ]
  },
  {
   "cell_type": "markdown",
   "id": "1cc9d110-cb9e-4ce4-b8c0-e1a5daeb8060",
   "metadata": {},
   "source": [
    "## II.1) Coût de fonctionnement en plus\n",
    "On modifie la fonction de coût en ajoutant le fonctionnement des centrales à Pmin pendant la première heure d'activation.\n",
    "Dans ce nouveau cas, les variables de Puissance Y représentent la puissance des centrales après la période d'allumage.\n",
    "Dans ce cas la contrainte de demande change aussi."
   ]
  },
  {
   "cell_type": "code",
   "execution_count": 3,
   "id": "616d90a1-048c-4d31-bac0-86bdda729fe7",
   "metadata": {},
   "outputs": [
    {
     "name": "stdout",
     "output_type": "stream",
     "text": [
      "Set parameter TokenServer to value \"dev.cma.mines-paristech.fr\"\n"
     ]
    }
   ],
   "source": [
    "# Create a new model\n",
    "m = gp.Model()\n",
    "\n",
    "## Create variables\n",
    "# Total thermal power of the plants A, B, C for every period\n",
    "Y = m.addVars(Periods, Centrales, \n",
    "              lb = 0,\n",
    "              #ub = [ Mw2Gw(P_max[c])*Ndisp[c] for c, p in product(Centrales, Periods) ],\n",
    "              name = 'Production',\n",
    "              vtype = GRB.CONTINUOUS)\n",
    "\n",
    "X = m.addVars(Periods, Centrales,\n",
    "              lb = 0,\n",
    "              ub = [ (Ndisp[c] for p in Periods for c in Centrales ) ],\n",
    "              name = 'Number_plants', \n",
    "              vtype = GRB.INTEGER)\n",
    "\n",
    "## Set objective function\n",
    "total_cost = sum( [ duration[p]*(X[(p, c)]*(cbase[c] - cvar[c]*P_min[c]) + cvar[c]*Gw2Mw(Y[(p, c)]))\n",
    "                        for p in Periods for c in Centrales ] )\n",
    "obj = m.setObjective(total_cost, gp.GRB.MINIMIZE)\n",
    "\n",
    "## Add constraints\n",
    "# Demand on the network\n",
    "c_demand = m.addConstrs( ( Y.sum(p, '*') >= demand[p] \n",
    "                                   for p in Periods ), name = \"Demand\" ) \n",
    "# Power constraints on the plants\n",
    "c_p_min = m.addConstrs( (  Y[(p, c)] >= Mw2Gw(P_min[c])*X[(p, c)]\n",
    "                                  for c in Centrales for p in Periods ), name = \"Pmin\" )\n",
    "c_p_max = m.addConstrs( ( Y[(p, c)] <= Mw2Gw(P_max[c])*X[(p, c)] \n",
    "                                  for c in Centrales for p in Periods ), name = \"Pmax\" )\n",
    "m.update()"
   ]
  },
  {
   "cell_type": "code",
   "execution_count": 4,
   "id": "379854e5-69e9-43ce-80de-ad74bc2405a2",
   "metadata": {},
   "outputs": [],
   "source": [
    "m.write(\"PowerOptim_2_1.lp\")"
   ]
  },
  {
   "cell_type": "code",
   "execution_count": 5,
   "id": "f19d2798-f4b4-47e4-a57a-553770668894",
   "metadata": {},
   "outputs": [
    {
     "name": "stdout",
     "output_type": "stream",
     "text": [
      "Gurobi Optimizer version 10.0.2 build v10.0.2rc0 (win64)\n",
      "\n",
      "CPU model: 12th Gen Intel(R) Core(TM) i7-12700, instruction set [SSE2|AVX|AVX2]\n",
      "Thread count: 12 physical cores, 20 logical processors, using up to 20 threads\n",
      "\n",
      "Optimize a model with 35 rows, 30 columns and 75 nonzeros\n",
      "Model fingerprint: 0x1af676bf\n",
      "Variable types: 15 continuous, 15 integer (0 binary)\n",
      "Coefficient statistics:\n",
      "  Matrix range     [8e-01, 4e+00]\n",
      "  Objective range  [2e+03, 2e+04]\n",
      "  Bounds range     [5e+00, 1e+01]\n",
      "  RHS range        [2e+01, 4e+01]\n",
      "Found heuristic solution: objective 1379850.0000\n",
      "Presolve removed 28 rows and 24 columns\n",
      "Presolve time: 0.00s\n",
      "Presolved: 7 rows, 6 columns, 15 nonzeros\n",
      "Found heuristic solution: objective 1039800.0000\n",
      "Variable types: 3 continuous, 3 integer (0 binary)\n",
      "\n",
      "Root relaxation: objective 9.780000e+05, 3 iterations, 0.00 seconds (0.00 work units)\n",
      "\n",
      "    Nodes    |    Current Node    |     Objective Bounds      |     Work\n",
      " Expl Unexpl |  Obj  Depth IntInf | Incumbent    BestBd   Gap | It/Node Time\n",
      "\n",
      "     0     0 978000.000    0    1 1039800.00 978000.000  5.94%     -    0s\n",
      "H    0     0                    980340.00000 978000.000  0.24%     -    0s\n",
      "H    0     0                    978900.00000 978000.000  0.09%     -    0s\n",
      "\n",
      "Cutting planes:\n",
      "  MIR: 1\n",
      "\n",
      "Explored 1 nodes (3 simplex iterations) in 0.02 seconds (0.00 work units)\n",
      "Thread count was 20 (of 20 available processors)\n",
      "\n",
      "Solution count 4: 978900 980340 1.0398e+06 1.37985e+06 \n",
      "\n",
      "Optimal solution found (tolerance 1.00e-04)\n",
      "Best objective 9.789000000000e+05, best bound 9.789000000000e+05, gap 0.0000%\n"
     ]
    }
   ],
   "source": [
    "m.optimize()"
   ]
  },
  {
   "cell_type": "code",
   "execution_count": 6,
   "id": "fc97c6a1-fbcc-43c3-b03d-03c6f47c6ddb",
   "metadata": {},
   "outputs": [
    {
     "name": "stdout",
     "output_type": "stream",
     "text": [
      "{'obj': 978900.0, 'lb': 978900.0, 'gap': 0.0, 'time': 0.019999980926513672}\n",
      "plan to activate units: {'A': [12, 12, 12, 12, 12], 'B': [2, 10, 8, 10, 9], 'C': [0, 0, 0, 0, 0]}\n"
     ]
    },
    {
     "data": {
      "image/png": "[encoded data removed]",
      "text/plain": [
       "<Figure size 1200x400 with 1 Axes>"
      ]
     },
     "metadata": {},
     "output_type": "display_data"
    }
   ],
   "source": [
    "# solution characteristics\n",
    "result = {'obj': m.objVal, 'lb': m.objBound,  'gap': m.mipGap, 'time': m.runtime}\n",
    "print(result)\n",
    "\n",
    "# optimal plan\n",
    "ndict = {t: [int(v.x) for v in X.select('*', t)] for t in Centrales}\n",
    "print(f\"plan to activate units: {ndict}\")\n",
    "\n",
    "orderedgen = sorted(Centrales, key=lambda x: cvar[x])\n",
    "pdict = {t: [v.x for v in Y.select('*', t)] for t in orderedgen}\n",
    "powerdf = pd.DataFrame(data=pdict)\n",
    "\n",
    "fig, axs = plt.subplots(figsize=(12, 4))\n",
    "powerdf.plot.bar(stacked=True, ax=axs)\n",
    "axs.set_ylabel(\"power output (MW)\")\n",
    "fig.savefig(\"powergen_2_1.png\")\n",
    "plt.show()"
   ]
  },
  {
   "cell_type": "markdown",
   "id": "7622fe9a-be10-4f8f-8713-d1b3e14646aa",
   "metadata": {},
   "source": [
    "## II.2) Cout de démarrage \n",
    "Pour ajouter les coûts de démarrage, on ajoute des variables qui représentent le nombre de centrales à allumer au début de chaque période. Ceci en fonction des centrales allumées au temps précédent. "
   ]
  },
  {
   "cell_type": "code",
   "execution_count": 7,
   "id": "93c4a22f-7e51-4b63-9cd7-f3711c9910de",
   "metadata": {},
   "outputs": [],
   "source": [
    "# Create a new model\n",
    "m2 = gp.Model()\n",
    "\n",
    "## Create variables\n",
    "# Total thermal power of the plants A, B, C for every period\n",
    "Y = m2.addVars(Periods, Centrales, \n",
    "              lb = 0,\n",
    "              #ub = [ Mw2Gw(P_max[c])*Ndisp[c] for c, p in product(Centrales, Periods) ],\n",
    "              name = 'Production',\n",
    "              vtype = GRB.CONTINUOUS)\n",
    "# Number of plant turned of at every period\n",
    "X = m2.addVars(Periods, Centrales,\n",
    "              lb = 0,\n",
    "              ub = [ (Ndisp[c] for p in Periods for c in Centrales ) ],\n",
    "              name = 'Number_plants', \n",
    "              vtype = GRB.INTEGER)\n",
    "# Number of plants to start\n",
    "plants_to_start = m2.addVars(Periods, Centrales,\n",
    "             lb = 0,\n",
    "             name=\"plants_to_start\",\n",
    "             vtype = GRB.INTEGER)\n",
    "\n",
    "## Set objective function\n",
    "cost1 = gp.quicksum( [ duration[p]*(X[(p, c)]*(cbase[c] - cvar[c]*P_min[c]) + cvar[c]*Gw2Mw(Y[(p, c)])) \n",
    "                    for p in Periods for c in Centrales ] ) \n",
    "cost2 = gp.quicksum( [ cdem[c]*plants_to_start[(p, c)]\n",
    "                    for p in Periods for c in Centrales ] )\n",
    "total_cost = cost1 + cost2\n",
    "obj = m2.setObjective(total_cost, gp.GRB.MINIMIZE)\n",
    "\n",
    "## Add constraints\n",
    "# Demand on the network\n",
    "c_demand = m2.addConstrs( ( Y.sum(p, '*') >= demand[p] \n",
    "                                   for p in Periods ), name = \"Demand\" ) \n",
    "# Power constraints on the plants\n",
    "c_p_min = m2.addConstrs( (  Y[(p, c)] >= Mw2Gw(P_min[c])*X[(p, c)]\n",
    "                                  for c in Centrales for p in Periods ), name = \"Pmin\" )\n",
    "c_p_max = m2.addConstrs( ( Y[(p, c)] <= Mw2Gw(P_max[c])*X[(p, c)] \n",
    "                                  for c in Centrales for p in Periods ), name = \"Pmax\" )\n",
    "# Add constraints on plants_to_start so plants_to_start = max(0, X[(p, c)] - X[(p-1, c))\n",
    "c_plants_to_start_p0 = m2.addConstrs( ( plants_to_start[(1, c)] == X[(1, c)] for c in Centrales ), name = \"plants_to_start_p0\" )\n",
    "c_plants_to_start = m2.addConstrs( ( plants_to_start[(p, c)] >= X[(p, c)] - X[(p-1, c)] \n",
    "                                  for c in Centrales for p in Periods[1:] ), name = \"plants_to_start\" )\n",
    "\n",
    "m2.update()"
   ]
  },
  {
   "cell_type": "code",
   "execution_count": 8,
   "id": "7767ed32-1c56-4463-b54c-7ff5c2d546e8",
   "metadata": {},
   "outputs": [],
   "source": [
    "m2.write(\"PowerOptim_2_2.lp\")"
   ]
  },
  {
   "cell_type": "code",
   "execution_count": 9,
   "id": "5c027301-132f-40ce-9f1c-09e70e9f7af1",
   "metadata": {},
   "outputs": [
    {
     "name": "stdout",
     "output_type": "stream",
     "text": [
      "Gurobi Optimizer version 10.0.2 build v10.0.2rc0 (win64)\n",
      "\n",
      "CPU model: 12th Gen Intel(R) Core(TM) i7-12700, instruction set [SSE2|AVX|AVX2]\n",
      "Thread count: 12 physical cores, 20 logical processors, using up to 20 threads\n",
      "\n",
      "Optimize a model with 50 rows, 45 columns and 117 nonzeros\n",
      "Model fingerprint: 0x2d15e37b\n",
      "Variable types: 15 continuous, 30 integer (0 binary)\n",
      "Coefficient statistics:\n",
      "  Matrix range     [8e-01, 4e+00]\n",
      "  Objective range  [5e+02, 2e+04]\n",
      "  Bounds range     [5e+00, 1e+01]\n",
      "  RHS range        [2e+01, 4e+01]\n",
      "Found heuristic solution: objective 1417350.0000\n",
      "Presolve removed 3 rows and 3 columns\n",
      "Presolve time: 0.00s\n",
      "Presolved: 47 rows, 42 columns, 111 nonzeros\n",
      "Variable types: 15 continuous, 27 integer (0 binary)\n",
      "Found heuristic solution: objective 1405550.0000\n",
      "\n",
      "Root relaxation: objective 1.011257e+06, 18 iterations, 0.00 seconds (0.00 work units)\n",
      "\n",
      "    Nodes    |    Current Node    |     Objective Bounds      |     Work\n",
      " Expl Unexpl |  Obj  Depth IntInf | Incumbent    BestBd   Gap | It/Node Time\n",
      "\n",
      "     0     0 1011257.14    0    7 1405550.00 1011257.14  28.1%     -    0s\n",
      "H    0     0                    1021435.0000 1011257.14  1.00%     -    0s\n",
      "H    0     0                    1018720.0000 1011257.14  0.73%     -    0s\n",
      "H    0     0                    1017970.0000 1011257.14  0.66%     -    0s\n",
      "H    0     0                    1017700.0000 1011257.14  0.63%     -    0s\n",
      "H    0     0                    1017310.0000 1011257.14  0.59%     -    0s\n",
      "H    0     0                    1015840.0000 1014233.33  0.16%     -    0s\n",
      "H    0     0                    1014400.0000 1014233.33  0.02%     -    0s\n",
      "     0     0 1014233.33    0    4 1014400.00 1014233.33  0.02%     -    0s\n",
      "\n",
      "Cutting planes:\n",
      "  MIR: 7\n",
      "\n",
      "Explored 1 nodes (27 simplex iterations) in 0.03 seconds (0.00 work units)\n",
      "Thread count was 20 (of 20 available processors)\n",
      "\n",
      "Solution count 7: 1.0144e+06 1.01584e+06 1.0177e+06 ... 1.41735e+06\n",
      "\n",
      "Optimal solution found (tolerance 1.00e-04)\n",
      "Best objective 1.014400000000e+06, best bound 1.014400000000e+06, gap 0.0000%\n"
     ]
    }
   ],
   "source": [
    "m2.optimize()"
   ]
  },
  {
   "cell_type": "code",
   "execution_count": 10,
   "id": "b3901b7a-7d72-4240-a4e8-8d5e27640070",
   "metadata": {},
   "outputs": [
    {
     "data": {
      "text/plain": [
       "{(1, 'A'): <gurobi.Var plants_to_start[1,A] (value 12.0)>,\n",
       " (1, 'B'): <gurobi.Var plants_to_start[1,B] (value 2.0)>,\n",
       " (1, 'C'): <gurobi.Var plants_to_start[1,C] (value 0.0)>,\n",
       " (2, 'A'): <gurobi.Var plants_to_start[2,A] (value -0.0)>,\n",
       " (2, 'B'): <gurobi.Var plants_to_start[2,B] (value 6.0)>,\n",
       " (2, 'C'): <gurobi.Var plants_to_start[2,C] (value -0.0)>,\n",
       " (3, 'A'): <gurobi.Var plants_to_start[3,A] (value -0.0)>,\n",
       " (3, 'B'): <gurobi.Var plants_to_start[3,B] (value -0.0)>,\n",
       " (3, 'C'): <gurobi.Var plants_to_start[3,C] (value -0.0)>,\n",
       " (4, 'A'): <gurobi.Var plants_to_start[4,A] (value -0.0)>,\n",
       " (4, 'B'): <gurobi.Var plants_to_start[4,B] (value 2.0)>,\n",
       " (4, 'C'): <gurobi.Var plants_to_start[4,C] (value -0.0)>,\n",
       " (5, 'A'): <gurobi.Var plants_to_start[5,A] (value -0.0)>,\n",
       " (5, 'B'): <gurobi.Var plants_to_start[5,B] (value -0.0)>,\n",
       " (5, 'C'): <gurobi.Var plants_to_start[5,C] (value -0.0)>}"
      ]
     },
     "execution_count": 10,
     "metadata": {},
     "output_type": "execute_result"
    }
   ],
   "source": [
    "plants_to_start"
   ]
  },
  {
   "cell_type": "code",
   "execution_count": 11,
   "id": "1806e246-6015-4430-9ba6-30029a24566a",
   "metadata": {},
   "outputs": [
    {
     "name": "stdout",
     "output_type": "stream",
     "text": [
      "{'obj': 978900.0, 'lb': 978900.0, 'gap': 0.0, 'time': 0.019999980926513672}\n",
      "plan to activate units: {'A': [12, 12, 12, 12, 12], 'B': [2, 8, 8, 10, 9], 'C': [0, 0, 0, 0, 0]}\n"
     ]
    },
    {
     "data": {
      "image/png": "[encoded data removed]",
      "text/plain": [
       "<Figure size 1200x400 with 1 Axes>"
      ]
     },
     "metadata": {},
     "output_type": "display_data"
    }
   ],
   "source": [
    "# solution characteristics\n",
    "result = {'obj': m.objVal, 'lb': m.objBound,  'gap': m.mipGap, 'time': m.runtime}\n",
    "print(result)\n",
    "\n",
    "# optimal plan\n",
    "ndict = {t: [int(v.x) for v in X.select('*', t)] for t in Centrales}\n",
    "print(f\"plan to activate units: {ndict}\")\n",
    "\n",
    "orderedgen = sorted(Centrales, key=lambda x: cvar[x])\n",
    "pdict = {t: [v.x for v in Y.select('*', t)] for t in orderedgen}\n",
    "powerdf = pd.DataFrame(data=pdict)\n",
    "\n",
    "fig, axs = plt.subplots(figsize=(12, 4))\n",
    "powerdf.plot.bar(stacked=True, ax=axs)\n",
    "axs.set_ylabel(\"power output (MW)\")\n",
    "fig.savefig(\"powergen_2_2.png\")\n",
    "plt.show()"
   ]
  },
  {
   "cell_type": "markdown",
   "id": "e0f78e9a-5661-4b2a-a14e-7ce72fe7fe23",
   "metadata": {},
   "source": [
    "## III.1) Réserve de puissance\n",
    "Une réserve de puissance de 15% est necéssaire en plus. On ajoute donc une contrainte sur les somme des puissances max qui doivent être supérieur à la demande majorée de 15%"
   ]
  },
  {
   "cell_type": "code",
   "execution_count": 12,
   "id": "ff133d8c-2876-4563-b68c-82c83c34b15b",
   "metadata": {},
   "outputs": [],
   "source": [
    "c_reserve = m2.addConstrs( ( gp.quicksum( (X[(p, c)]* Mw2Gw(P_max[c]) for c in Centrales) )  >= 1.15 * demand[p]\n",
    "                                  for p in Periods ), name = \"reserve_15%\" )\n",
    "\n",
    "m2.update()"
   ]
  },
  {
   "cell_type": "code",
   "execution_count": 13,
   "id": "0b4b0aa2-ff33-4c48-8910-085d4da78bd2",
   "metadata": {},
   "outputs": [],
   "source": [
    "m2.write(\"PowerOptim_3_1.lp\")"
   ]
  },
  {
   "cell_type": "code",
   "execution_count": 14,
   "id": "fd53c637-436d-4013-884f-201d2749a25e",
   "metadata": {},
   "outputs": [
    {
     "name": "stdout",
     "output_type": "stream",
     "text": [
      "Gurobi Optimizer version 10.0.2 build v10.0.2rc0 (win64)\n",
      "\n",
      "CPU model: 12th Gen Intel(R) Core(TM) i7-12700, instruction set [SSE2|AVX|AVX2]\n",
      "Thread count: 12 physical cores, 20 logical processors, using up to 20 threads\n",
      "\n",
      "Optimize a model with 55 rows, 45 columns and 132 nonzeros\n",
      "Model fingerprint: 0x54019e39\n",
      "Variable types: 15 continuous, 30 integer (0 binary)\n",
      "Coefficient statistics:\n",
      "  Matrix range     [8e-01, 4e+00]\n",
      "  Objective range  [5e+02, 2e+04]\n",
      "  Bounds range     [5e+00, 1e+01]\n",
      "  RHS range        [2e+01, 5e+01]\n",
      "\n",
      "MIP start from previous solve did not produce a new incumbent solution\n",
      "MIP start from previous solve violates constraint reserve_15%[4] by 4.500000000\n",
      "\n",
      "Found heuristic solution: objective 1287550.0000\n",
      "Presolve removed 3 rows and 3 columns\n",
      "Presolve time: 0.00s\n",
      "Presolved: 52 rows, 42 columns, 126 nonzeros\n",
      "Variable types: 15 continuous, 27 integer (0 binary)\n",
      "\n",
      "Root relaxation: objective 1.012257e+06, 18 iterations, 0.00 seconds (0.00 work units)\n",
      "\n",
      "    Nodes    |    Current Node    |     Objective Bounds      |     Work\n",
      " Expl Unexpl |  Obj  Depth IntInf | Incumbent    BestBd   Gap | It/Node Time\n",
      "\n",
      "     0     0 1012257.14    0    7 1287550.00 1012257.14  21.4%     -    0s\n",
      "H    0     0                    1022435.0000 1012257.14  1.00%     -    0s\n",
      "H    0     0                    1019720.0000 1012257.14  0.73%     -    0s\n",
      "H    0     0                    1018970.0000 1012257.14  0.66%     -    0s\n",
      "H    0     0                    1018700.0000 1012257.14  0.63%     -    0s\n",
      "H    0     0                    1018310.0000 1012257.14  0.59%     -    0s\n",
      "H    0     0                    1015150.0000 1014400.00  0.07%     -    0s\n",
      "\n",
      "Cutting planes:\n",
      "  MIR: 5\n",
      "\n",
      "Explored 1 nodes (18 simplex iterations) in 0.02 seconds (0.00 work units)\n",
      "Thread count was 20 (of 20 available processors)\n",
      "\n",
      "Solution count 6: 1.01515e+06 1.01831e+06 1.0187e+06 ... 1.28755e+06\n",
      "\n",
      "Optimal solution found (tolerance 1.00e-04)\n",
      "Best objective 1.015150000000e+06, best bound 1.015150000000e+06, gap 0.0000%\n"
     ]
    }
   ],
   "source": [
    "m2.optimize()"
   ]
  },
  {
   "cell_type": "code",
   "execution_count": 15,
   "id": "544cc5f0-62a0-440f-bb8f-40902c3df0ad",
   "metadata": {},
   "outputs": [
    {
     "name": "stdout",
     "output_type": "stream",
     "text": [
      "Gurobi Optimizer version 10.0.2 build v10.0.2rc0 (win64)\n",
      "\n",
      "CPU model: 12th Gen Intel(R) Core(TM) i7-12700, instruction set [SSE2|AVX|AVX2]\n",
      "Thread count: 12 physical cores, 20 logical processors, using up to 20 threads\n",
      "\n",
      "Optimize a model with 55 rows, 45 columns and 132 nonzeros\n",
      "Model fingerprint: 0x54019e39\n",
      "Variable types: 15 continuous, 30 integer (0 binary)\n",
      "Coefficient statistics:\n",
      "  Matrix range     [8e-01, 4e+00]\n",
      "  Objective range  [5e+02, 2e+04]\n",
      "  Bounds range     [5e+00, 1e+01]\n",
      "  RHS range        [2e+01, 5e+01]\n",
      "Presolved: 52 rows, 42 columns, 126 nonzeros\n",
      "\n",
      "Continuing optimization...\n",
      "\n",
      "\n",
      "Cutting planes:\n",
      "  MIR: 5\n",
      "\n",
      "Explored 1 nodes (18 simplex iterations) in 0.00 seconds (0.00 work units)\n",
      "Thread count was 20 (of 20 available processors)\n",
      "\n",
      "Solution count 6: 1.01515e+06 1.01831e+06 1.0187e+06 ... 1.28755e+06\n",
      "\n",
      "Optimal solution found (tolerance 1.00e-04)\n",
      "Best objective 1.015150000000e+06, best bound 1.015150000000e+06, gap 0.0000%\n"
     ]
    }
   ],
   "source": [
    "m2.optimize()"
   ]
  },
  {
   "cell_type": "code",
   "execution_count": 16,
   "id": "aeabf327-e545-471a-ab41-4328b21d8b54",
   "metadata": {},
   "outputs": [
    {
     "name": "stdout",
     "output_type": "stream",
     "text": [
      "{'obj': 978900.0, 'lb': 978900.0, 'gap': 0.0, 'time': 0.019999980926513672}\n",
      "plan to activate units: {'A': [12, 12, 12, 12, 12], 'B': [2, 8, 8, 9, 9], 'C': [0, 0, 0, 2, 0]}\n"
     ]
    },
    {
     "data": {
      "image/png": "[encoded data removed]",
      "text/plain": [
       "<Figure size 1200x400 with 1 Axes>"
      ]
     },
     "metadata": {},
     "output_type": "display_data"
    }
   ],
   "source": [
    "# solution characteristics\n",
    "result = {'obj': m.objVal, 'lb': m.objBound,  'gap': m.mipGap, 'time': m.runtime}\n",
    "print(result)\n",
    "\n",
    "# optimal plan\n",
    "ndict = {t: [int(v.x) for v in X.select('*', t)] for t in Centrales}\n",
    "print(f\"plan to activate units: {ndict}\")\n",
    "\n",
    "orderedgen = sorted(Centrales, key=lambda x: cvar[x])\n",
    "pdict = {t: [v.x for v in Y.select('*', t)] for t in orderedgen}\n",
    "powerdf = pd.DataFrame(data=pdict)\n",
    "\n",
    "fig, axs = plt.subplots(figsize=(12, 4))\n",
    "powerdf.plot.bar(stacked=True, ax=axs)\n",
    "axs.set_ylabel(\"power output (MW)\")\n",
    "fig.savefig(\"powergen_3_1.png\")\n",
    "plt.show()"
   ]
  }
 ],
 "metadata": {
  "kernelspec": {
   "display_name": "Python 3 (ipykernel)",
   "language": "python",
   "name": "python3"
  },
  "language_info": {
   "codemirror_mode": {
    "name": "ipython",
    "version": 3
   },
   "file_extension": ".py",
   "mimetype": "text/x-python",
   "name": "python",
   "nbconvert_exporter": "python",
   "pygments_lexer": "ipython3",
   "version": "3.11.4"
  }
 },
 "nbformat": 4,
 "nbformat_minor": 5
}
