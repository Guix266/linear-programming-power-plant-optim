{
 "cells": [
  {
   "cell_type": "markdown",
   "id": "6da3dea9-2542-488b-8be7-036f56dadb0f",
   "metadata": {},
   "source": [
    "# TD Optim Linéaire : Planification de la production d'électricité\n",
    "### Guillaume DESERMEAUX, Mastère OSE 2023\n",
    "(Sujet de Sophie demassey, CMA - Mines Paris-PSL) 5 Octobre 2023\n",
    "# Partie 3"
   ]
  },
  {
   "cell_type": "code",
   "execution_count": 1,
   "id": "b1ef02c7-59ca-4010-b861-089eab869125",
   "metadata": {},
   "outputs": [],
   "source": [
    "from itertools import product\n",
    "import pandas as pd\n",
    "import matplotlib.pyplot as plt\n",
    "\n",
    "import gurobipy as gp\n",
    "from gurobipy import  Model, GRB, multidict # Object utile pour créer des dictionnaires à partir d'une table"
   ]
  },
  {
   "cell_type": "code",
   "execution_count": 2,
   "id": "0cc7941a-0962-4197-b9dc-95a565e4e18c",
   "metadata": {},
   "outputs": [],
   "source": [
    "Periods, start_time, stop_time, duration, demand = multidict({\n",
    "    1: [\"0h\", \"6h\", 6, 15],\n",
    "    2: [\"6h\", \"9h\", 3, 30],\n",
    "    3: [\"9h\", \"15h\", 6, 25],\n",
    "    4: [\"15h\", \"18h\", 3, 40],\n",
    "    5: [\"18h\", \"0h\", 6, 27]\n",
    "})\n",
    "\n",
    "Centrales, Ndisp, P_min, P_max, cbase, cvar, cdem, mycolor = multidict({\n",
    "    'A': [ 12, 850, 2000, 1000, 2, 2000, 'r'],\n",
    "    'B': [ 10, 1250, 1750, 2600, 1.3, 1000, 'g'],\n",
    "    'C': [5, 1500, 4000, 3000, 3, 500, 'b']\n",
    "})\n",
    "\n",
    "Mw2Gw = lambda x : x / 1000\n",
    "Gw2Mw = lambda x : x * 1000"
   ]
  },
  {
   "cell_type": "markdown",
   "id": "1cc9d110-cb9e-4ce4-b8c0-e1a5daeb8060",
   "metadata": {},
   "source": [
    "## VI.1) Planification cyclique\n",
    "Dans cette modélisation, la période 1 succède à la 2. Celà ajoute des contraintes supplémentaires.\n",
    "Pour permettre une meilleure généralisation du code, on crée une fonction *prev(period, cyclic=True)* qui renvoit l'indice de la période précédente dans le cas cyclique ou naïf."
   ]
  },
  {
   "cell_type": "code",
   "execution_count": 3,
   "id": "84893fca-d5e3-4b4e-954b-548b174e68a0",
   "metadata": {},
   "outputs": [],
   "source": [
    "def prev(period, cyclic=True):\n",
    "    \"\"\" Return the index of the previous period \"\"\"\n",
    "    if cyclic:\n",
    "        return( 5 if period==1 else period-1 )\n",
    "    else:\n",
    "        return( 1 if period==1 else period-1 )"
   ]
  },
  {
   "cell_type": "code",
   "execution_count": 4,
   "id": "de904351-4c1c-4fdc-b04e-c291bcaa2df1",
   "metadata": {},
   "outputs": [
    {
     "name": "stdout",
     "output_type": "stream",
     "text": [
      "Set parameter TokenServer to value \"dev.cma.mines-paristech.fr\"\n"
     ]
    }
   ],
   "source": [
    "# Cyclic option\n",
    "cyclic=True\n",
    "\n",
    "# Create a new model\n",
    "m = gp.Model()\n",
    "\n",
    "## Create variables\n",
    "# Total thermal power of the plants A, B, C for every period\n",
    "Y = m.addVars(Periods, Centrales, \n",
    "              lb = 0,\n",
    "              #ub = [ Mw2Gw(P_max[c])*Ndisp[c] for c, p in product(Centrales, Periods) ],\n",
    "              name = 'Production',\n",
    "              vtype = GRB.CONTINUOUS)\n",
    "# Number of plant turned of at every period\n",
    "X = m.addVars(Periods, Centrales,\n",
    "              lb = 0,\n",
    "              ub = [ (Ndisp[c] for p in Periods for c in Centrales ) ],\n",
    "              name = 'Number_plants', \n",
    "              vtype = GRB.INTEGER)\n",
    "# Number of plants to start\n",
    "plants_to_start = m.addVars(Periods, Centrales,\n",
    "             lb = 0,\n",
    "             name=\"plants_to_start\",\n",
    "             vtype = GRB.INTEGER)\n",
    "\n",
    "## Set objective function\n",
    "cost1 = gp.quicksum( [ duration[p]*(X[(p, c)]*(cbase[c] - cvar[c]*P_min[c]) + cvar[c]*Gw2Mw(Y[(p, c)])) \n",
    "                    for p in Periods for c in Centrales ] ) \n",
    "cost2 = gp.quicksum( [ cdem[c]*plants_to_start[(p, c)]\n",
    "                    for p in Periods for c in Centrales ] )\n",
    "total_cost = cost1 + cost2\n",
    "obj = m.setObjective(total_cost, gp.GRB.MINIMIZE)\n",
    "\n",
    "## Add constraints\n",
    "# Demand on the network\n",
    "c_demand = m.addConstrs( ( Y.sum(p, '*') >= demand[p] \n",
    "                                   for p in Periods ), name = \"Demand\" ) \n",
    "# Power constraints on the plants\n",
    "c_p_min = m.addConstrs( (  Y[(p, c)] >= Mw2Gw(P_min[c])*X[(p, c)]\n",
    "                                  for c in Centrales for p in Periods ), name = \"Pmin\" )\n",
    "c_p_max = m.addConstrs( ( Y[(p, c)] <= Mw2Gw(P_max[c])*X[(p, c)] \n",
    "                                  for c in Centrales for p in Periods ), name = \"Pmax\" )\n",
    "# Add constraints on plants_to_start so plants_to_start = max(0, X[(p, c)] - X[(p-1, c))\n",
    "c_plants_to_start = m.addConstrs( ( plants_to_start[(p, c)] >= X[(p, c)] - X[(prev(p, cyclic=cyclic), c)] \n",
    "                                  for c in Centrales for p in Periods ), name = \"plants_to_start\" )\n",
    "if not cyclic:\n",
    "    c_plants_to_start_p0 = m2.addConstrs( ( plants_to_start[(1, c)] == X[(1, c)] for c in Centrales ), name = \"plants_to_start_p0\" )\n",
    "\n",
    "# Add constraint on the reserve\n",
    "c_reserve = m.addConstrs( ( gp.quicksum( (X[(p, c)]* Mw2Gw(P_max[c]) for c in Centrales) )  >= 1.15 * demand[p]\n",
    "                                  for p in Periods ), name = \"reserve_15%\" )\n",
    "\n",
    "m.update()"
   ]
  },
  {
   "cell_type": "code",
   "execution_count": 5,
   "id": "bd955a17-a25a-4cc1-a2c2-6b7410a40719",
   "metadata": {},
   "outputs": [],
   "source": [
    "m.write(\"PowerOptim_4_1.lp\")"
   ]
  },
  {
   "cell_type": "code",
   "execution_count": 6,
   "id": "3e885c72-0ffd-4523-8503-55b65b72d4ce",
   "metadata": {},
   "outputs": [
    {
     "name": "stdout",
     "output_type": "stream",
     "text": [
      "Gurobi Optimizer version 10.0.2 build v10.0.2rc0 (win64)\n",
      "\n",
      "CPU model: 12th Gen Intel(R) Core(TM) i7-12700, instruction set [SSE2|AVX|AVX2]\n",
      "Thread count: 12 physical cores, 20 logical processors, using up to 20 threads\n",
      "\n",
      "Optimize a model with 55 rows, 45 columns and 135 nonzeros\n",
      "Model fingerprint: 0xab247a16\n",
      "Variable types: 15 continuous, 30 integer (0 binary)\n",
      "Coefficient statistics:\n",
      "  Matrix range     [8e-01, 4e+00]\n",
      "  Objective range  [5e+02, 2e+04]\n",
      "  Bounds range     [5e+00, 1e+01]\n",
      "  RHS range        [2e+01, 5e+01]\n",
      "Found heuristic solution: objective 1279070.0000\n",
      "Presolve time: 0.00s\n",
      "Presolved: 55 rows, 45 columns, 135 nonzeros\n",
      "Variable types: 15 continuous, 30 integer (0 binary)\n",
      "\n",
      "Root relaxation: objective 9.855143e+05, 19 iterations, 0.00 seconds (0.00 work units)\n",
      "\n",
      "    Nodes    |    Current Node    |     Objective Bounds      |     Work\n",
      " Expl Unexpl |  Obj  Depth IntInf | Incumbent    BestBd   Gap | It/Node Time\n",
      "\n",
      "     0     0 985514.286    0    7 1279070.00 985514.286  23.0%     -    0s\n",
      "H    0     0                    995435.00000 985514.286  1.00%     -    0s\n",
      "H    0     0                    992720.00000 985514.286  0.73%     -    0s\n",
      "H    0     0                    991970.00000 985514.286  0.65%     -    0s\n",
      "H    0     0                    991700.00000 985514.286  0.62%     -    0s\n",
      "H    0     0                    988540.00000 985514.286  0.31%     -    0s\n",
      "\n",
      "Cutting planes:\n",
      "  MIR: 5\n",
      "\n",
      "Explored 1 nodes (19 simplex iterations) in 0.01 seconds (0.00 work units)\n",
      "Thread count was 20 (of 20 available processors)\n",
      "\n",
      "Solution count 5: 988540 991700 991970 ... 1.27907e+06\n",
      "\n",
      "Optimal solution found (tolerance 1.00e-04)\n",
      "Best objective 9.885400000000e+05, best bound 9.885400000000e+05, gap 0.0000%\n"
     ]
    }
   ],
   "source": [
    "m.optimize()"
   ]
  },
  {
   "cell_type": "code",
   "execution_count": 7,
   "id": "0e0da14d-2d7f-49b9-beba-ba9dd85c0226",
   "metadata": {},
   "outputs": [
    {
     "name": "stdout",
     "output_type": "stream",
     "text": [
      "{'obj': 988540.0, 'lb': 988540.0, 'gap': 0.0, 'time': 0.016000032424926758}\n",
      "plan to activate units: {'A': [12, 12, 12, 12, 12], 'B': [3, 8, 8, 9, 9], 'C': [0, 0, 0, 2, 0]}\n"
     ]
    },
    {
     "data": {
      "image/png": "[encoded data removed]",
      "text/plain": [
       "<Figure size 1200x400 with 1 Axes>"
      ]
     },
     "metadata": {},
     "output_type": "display_data"
    }
   ],
   "source": [
    "# solution characteristics\n",
    "result = {'obj': m.objVal, 'lb': m.objBound,  'gap': m.mipGap, 'time': m.runtime}\n",
    "print(result)\n",
    "\n",
    "# optimal plan\n",
    "ndict = {t: [int(v.x) for v in X.select('*', t)] for t in Centrales}\n",
    "print(f\"plan to activate units: {ndict}\")\n",
    "\n",
    "orderedgen = sorted(Centrales, key=lambda x: cvar[x])\n",
    "pdict = {t: [v.x for v in Y.select('*', t)] for t in orderedgen}\n",
    "powerdf = pd.DataFrame(data=pdict)\n",
    "\n",
    "fig, axs = plt.subplots(figsize=(12, 4))\n",
    "powerdf.plot.bar(stacked=True, ax=axs)\n",
    "axs.set_ylabel(\"power output (MW)\")\n",
    "fig.savefig(\"powergen_4_1.png\")\n",
    "plt.show()"
   ]
  },
  {
   "cell_type": "markdown",
   "id": "8bda3745-fd69-46d0-9ff0-9fe60f05fd5f",
   "metadata": {},
   "source": [
    "## V.1) Centrales hydroélectriques\n",
    "\n",
    "2 centrales hydroélectriques de Puissance nominale fixe sont ajoutés. On introduit alors des variables binaires qui représentent l'état (en production ou à l'arret) de ces centrales."
   ]
  },
  {
   "cell_type": "code",
   "execution_count": 8,
   "id": "c7a4b486-37d2-4b9b-81eb-3eaa46ddf1b9",
   "metadata": {},
   "outputs": [],
   "source": [
    "Centrales_hydro, P_nominal, lowering_rate, cdem_hydro, chour_hydro = multidict({\n",
    "    \"A\": [900, 0.31, 1500, 90],\n",
    "    \"B\": [1400, 0.47, 1200, 150],\n",
    "})"
   ]
  },
  {
   "cell_type": "code",
   "execution_count": 9,
   "id": "cb000089-5ef1-410a-a2f5-3bbf93f9be74",
   "metadata": {},
   "outputs": [],
   "source": [
    "# Cyclic option\n",
    "cyclic=True\n",
    "\n",
    "# Create a new model\n",
    "m = gp.Model()\n",
    "\n",
    "## Create variables\n",
    "# Total thermal power of the plants A, B, C for every period\n",
    "Y = m.addVars(Periods, Centrales, \n",
    "            lb = 0,\n",
    "            #ub = [ Mw2Gw(P_max[c])*Ndisp[c] for c, p in product(Centrales, Periods) ],\n",
    "            name = 'Production',\n",
    "            vtype = GRB.CONTINUOUS)\n",
    "# Number of plant turned of at every period\n",
    "X = m.addVars(Periods, Centrales,\n",
    "            lb = 0,\n",
    "            ub = [ (Ndisp[c] for p in Periods for c in Centrales ) ],\n",
    "            name = 'Number_plants', \n",
    "            vtype = GRB.INTEGER)\n",
    "# Number of plants to start\n",
    "plants_to_start = m.addVars(Periods, Centrales,\n",
    "            lb = 0,\n",
    "            name=\"plants_to_start\",\n",
    "            vtype = GRB.INTEGER)\n",
    "\n",
    "# Binary state of the hydroelectric plant\n",
    "Y_hydro = m.addVars(Periods, Centrales_hydro,\n",
    "            vtype = GRB.BINARY, \n",
    "            name=\"Hydro_plant_state\")\n",
    "# Binary number : 1 - the hydroelectric plant starts at p /\n",
    "#                 0 - it has already started or stay off\n",
    "hydro_to_start = m.addVars(Periods, Centrales_hydro,\n",
    "            name=\"hydro_to_start\",\n",
    "            vtype = GRB.BINARY)\n",
    "\n",
    "## Set objective function\n",
    "cost1 = gp.quicksum( [ duration[p]*(X[(p, c)]*(cbase[c] - cvar[c]*P_min[c]) + cvar[c]*Gw2Mw(Y[(p, c)])) \n",
    "                    for p in Periods for c in Centrales ] ) \n",
    "cost2 = gp.quicksum( [ cdem[c]*plants_to_start[(p, c)]\n",
    "                    for p in Periods for c in Centrales ] )\n",
    "cost3 = gp.quicksum( [ hydro_to_start[(p, c)]*cdem_hydro[c] + duration[p]*Y_hydro[(p, c)]*chour_hydro[c]\n",
    "                    for p in Periods for c in Centrales_hydro ] )\n",
    "\n",
    "total_cost = cost1 + cost2 + cost3\n",
    "obj = m.setObjective(total_cost, gp.GRB.MINIMIZE)\n",
    "\n",
    "### Add constraints\n",
    "\n",
    "## a) Demand on the network with thermic and hydroelectric plants\n",
    "c_demand = m.addConstrs( ( Y.sum(p, '*') + \n",
    "              gp.quicksum( (Y_hydro.sum(p, c)*Mw2Gw(P_nominal[c]) for c in Centrales_hydro) ) \n",
    "              >= demand[p] \n",
    "              for p in Periods ), name = \"Demand\" ) \n",
    "\n",
    "## b) Power constraints on the thermic plants\n",
    "c_p_min = m.addConstrs( (  Y[(p, c)] >= Mw2Gw(P_min[c])*X[(p, c)]\n",
    "                                  for c in Centrales for p in Periods ), name = \"Pmin\" )\n",
    "c_p_max = m.addConstrs( ( Y[(p, c)] <= Mw2Gw(P_max[c])*X[(p, c)] \n",
    "                                  for c in Centrales for p in Periods ), name = \"Pmax\" )\n",
    "# Add constraints on plants_to_start so plants_to_start = max(0, X[(p, c)] - X[(p-1, c))\n",
    "c_plants_to_start = m.addConstrs( ( plants_to_start[(p, c)] >= X[(p, c)] - X[(prev(p, cyclic=cyclic), c)] \n",
    "                                  for c in Centrales for p in Periods ), name = \"plants_to_start\" )\n",
    "if not cyclic:\n",
    "    c_plants_to_start_p0 = m.addConstrs( ( plants_to_start[(1, c)] == X[(1, c)] for c in Centrales ), name = \"plants_to_start_p0\" )\n",
    "\n",
    "## c) Hydro-electric : constraint on if a hydroelectric plant has to start at p\n",
    "c_hydro_to_start = m.addConstrs( \n",
    "    ( hydro_to_start[(p, c)] >= Y_hydro[(p, c)] - Y_hydro[(prev(p, cyclic=cyclic), c)] \n",
    "    for c in Centrales_hydro for p in Periods ), name = \"hydro_to_start\" )\n",
    "\n",
    "if not cyclic:\n",
    "    c_hydro_to_start_p0 = m.addConstrs( ( hydro_to_start[(1, c)] == Y_hydro[(1, c)] \n",
    "              for c in Centrales_hydro ), \n",
    "              name = \"hydro_to_start_p0\" )\n",
    "\n",
    "# Add constraint on the reserve\n",
    "c_reserve = m.addConstrs( ( gp.quicksum( (X[(p, c)]* Mw2Gw(P_max[c]) for c in Centrales) ) +\n",
    "                            gp.quicksum( (X[(p, c)]* Mw2Gw(P_nominal[c]) for c in Centrales_hydro) ) \n",
    "                                >= 1.15 * demand[p] for p in Periods ), name = \"reserve_15%\" )\n",
    "\n",
    "m.update()"
   ]
  },
  {
   "cell_type": "code",
   "execution_count": 10,
   "id": "9eb34ed4-a10d-4f6e-846c-88f4d52b11c1",
   "metadata": {},
   "outputs": [],
   "source": [
    "m.write(\"PowerOptim_5_1.lp\")"
   ]
  },
  {
   "cell_type": "code",
   "execution_count": 11,
   "id": "5ad23140-629d-41f8-9ef2-a466a64f9ab6",
   "metadata": {},
   "outputs": [
    {
     "name": "stdout",
     "output_type": "stream",
     "text": [
      "Gurobi Optimizer version 10.0.2 build v10.0.2rc0 (win64)\n",
      "\n",
      "CPU model: 12th Gen Intel(R) Core(TM) i7-12700, instruction set [SSE2|AVX|AVX2]\n",
      "Thread count: 12 physical cores, 20 logical processors, using up to 20 threads\n",
      "\n",
      "Optimize a model with 65 rows, 65 columns and 175 nonzeros\n",
      "Model fingerprint: 0x07ee6408\n",
      "Variable types: 15 continuous, 50 integer (20 binary)\n",
      "Coefficient statistics:\n",
      "  Matrix range     [8e-01, 4e+00]\n",
      "  Objective range  [3e+02, 2e+04]\n",
      "  Bounds range     [1e+00, 1e+01]\n",
      "  RHS range        [2e+01, 5e+01]\n",
      "Found heuristic solution: objective 1164125.0000\n",
      "Presolve time: 0.00s\n",
      "Presolved: 65 rows, 65 columns, 175 nonzeros\n",
      "Variable types: 15 continuous, 50 integer (20 binary)\n",
      "\n",
      "Root relaxation: objective 8.877600e+05, 20 iterations, 0.00 seconds (0.00 work units)\n",
      "\n",
      "    Nodes    |    Current Node    |     Objective Bounds      |     Work\n",
      " Expl Unexpl |  Obj  Depth IntInf | Incumbent    BestBd   Gap | It/Node Time\n",
      "\n",
      "     0     0 887760.000    0    7 1164125.00 887760.000  23.7%     -    0s\n",
      "H    0     0                    905035.00000 887760.000  1.91%     -    0s\n",
      "H    0     0                    889510.00000 887760.000  0.20%     -    0s\n",
      "\n",
      "Cutting planes:\n",
      "  Gomory: 4\n",
      "  MIR: 9\n",
      "\n",
      "Explored 1 nodes (20 simplex iterations) in 0.01 seconds (0.00 work units)\n",
      "Thread count was 20 (of 20 available processors)\n",
      "\n",
      "Solution count 3: 889510 905035 1.16413e+06 \n",
      "\n",
      "Optimal solution found (tolerance 1.00e-04)\n",
      "Best objective 8.895100000000e+05, best bound 8.895100000000e+05, gap 0.0000%\n"
     ]
    }
   ],
   "source": [
    "m.optimize()"
   ]
  },
  {
   "cell_type": "code",
   "execution_count": 12,
   "id": "66b902b8-e10a-4beb-8e00-0786e6c06cb9",
   "metadata": {},
   "outputs": [
    {
     "name": "stdout",
     "output_type": "stream",
     "text": [
      "{'obj': 889510.0, 'lb': 889510.0, 'gap': 0.0, 'time': 0.012000083923339844}\n",
      "plan to activate units: {'A': [12, 12, 12, 12, 12], 'B': [1, 7, 7, 8, 8], 'C': [0, 0, 0, 0, 0]} {'A': [0.9, 0.9, 0.9, 0.9, 0.9], 'B': [1.4, 1.4, 1.4, 1.4, 1.4]}\n"
     ]
    },
    {
     "data": {
      "image/png": "[encoded data removed]",
      "text/plain": [
       "<Figure size 1200x400 with 1 Axes>"
      ]
     },
     "metadata": {},
     "output_type": "display_data"
    }
   ],
   "source": [
    "# solution characteristics\n",
    "result = {'obj': m.objVal, 'lb': m.objBound,  'gap': m.mipGap, 'time': m.runtime}\n",
    "print(result)\n",
    "\n",
    "# optimal plan\n",
    "ndict = {t: [int(v.x) for v in X.select('*', t)] for t in Centrales}\n",
    "ndict_h = {t: [int(v.x)*Mw2Gw(P_nominal[t]) for v in Y_hydro.select('*', t)] for t in Centrales_hydro}\n",
    "print(f\"plan to activate units: {ndict} {ndict_h}\")\n",
    "\n",
    "orderedgen = sorted(Centrales, key=lambda x: cvar[x])\n",
    "pdict = {t: [v.x for v in Y.select('*', t)] for t in orderedgen}\n",
    "for t in Centrales_hydro:\n",
    "     pdict[f'Hydro_{t}'] = [ int(v.x)*Mw2Gw(P_nominal[t]) for v in Y_hydro.select('*', t) ]\n",
    "powerdf = pd.DataFrame(data=pdict)\n",
    "\n",
    "fig, axs = plt.subplots(figsize=(12, 4))\n",
    "powerdf.plot.bar(stacked=True, ax=axs)\n",
    "axs.set_ylabel(\"power output (MW)\")\n",
    "fig.savefig(\"powergen_5_1.png\")\n",
    "plt.show()"
   ]
  },
  {
   "cell_type": "markdown",
   "id": "95518176-9310-4e30-871d-81d9bf3bbcb8",
   "metadata": {},
   "source": [
    "On obtient un résultat bien meilleur que le précédent (cyclique) en ayant ajouté les centrales hydroélectriques. En effet, les centrales hydroélectriques ont remplacé une partie des centrales 'A' à toutes les périodes. Elles ont aussi remplacés la centrale 'C' allumée à la quatrième période entre 15h et 18h.\n",
    "Cependant, dans ce cas, les centrales hydroélectriques sont en permanance en fonctionnement. Celà n'est pas très réaliste, car leur production est lié aux reserves en eau du barrage qui se renouvellent lentement."
   ]
  },
  {
   "cell_type": "markdown",
   "id": "0dfc3e9a-3ba7-4310-8721-3215dcffe59e",
   "metadata": {},
   "source": [
    "## V.2) Ajout du pompage\n",
    "\n",
    "On ajoute le fonctionnement des pompes dans le modèle. Ainsi la production totale est abaissé par le fonctionnement des pompes. On ajoute une contrainte sur le niveau de l'eau en fin de période 5."
   ]
  },
  {
   "cell_type": "code",
   "execution_count": 13,
   "id": "8988d541-0655-45e3-a030-790c2fac2962",
   "metadata": {},
   "outputs": [],
   "source": [
    "P_PUMP = 3000 #MWH/m"
   ]
  },
  {
   "cell_type": "code",
   "execution_count": 14,
   "id": "125ebf29-02a3-4232-83d3-e3a7c80787b3",
   "metadata": {},
   "outputs": [],
   "source": [
    "# Cyclic option\n",
    "cyclic=True\n",
    "\n",
    "# Create a new model\n",
    "m = gp.Model()\n",
    "\n",
    "## Create variables\n",
    "# Total thermal power of the plants A, B, C for every period\n",
    "Y = m.addVars(Periods, Centrales, \n",
    "            lb = 0,\n",
    "            #ub = [ Mw2Gw(P_max[c])*Ndisp[c] for c, p in product(Centrales, Periods) ],\n",
    "            name = 'Production',\n",
    "            vtype = GRB.CONTINUOUS)\n",
    "# Number of plant turned of at every period\n",
    "X = m.addVars(Periods, Centrales,\n",
    "            lb = 0,\n",
    "            ub = [ (Ndisp[c] for p in Periods for c in Centrales ) ],\n",
    "            name = 'Number_plants', \n",
    "            vtype = GRB.INTEGER)\n",
    "# Number of plants to start\n",
    "plants_to_start = m.addVars(Periods, Centrales,\n",
    "            lb = 0,\n",
    "            name=\"plants_to_start\",\n",
    "            vtype = GRB.INTEGER)\n",
    "\n",
    "# Binary state of the hydroelectric plant\n",
    "Y_hydro = m.addVars(Periods, Centrales_hydro,\n",
    "            vtype = GRB.BINARY, \n",
    "            name=\"Hydro_plant_state\")\n",
    "# Binary number : 1 - the hydroelectric plant starts at p /\n",
    "#                 0 - it has already started or stay off\n",
    "hydro_to_start = m.addVars(Periods, Centrales_hydro,\n",
    "            name=\"hydro_to_start\",\n",
    "            vtype = GRB.BINARY)\n",
    "# Variable corresponding to the number of meters fullfilled at p\n",
    "heigth_to_fill = m.addVars(Periods, Centrales_hydro,\n",
    "            name=\"heigth_to_fill\",\n",
    "            vtype = GRB.CONTINUOUS)\n",
    "\n",
    "## Set objective function\n",
    "cost1 = gp.quicksum( [ duration[p]*(X[(p, c)]*(cbase[c] - cvar[c]*P_min[c]) + cvar[c]*Gw2Mw(Y[(p, c)])) \n",
    "                    for p in Periods for c in Centrales ] ) \n",
    "cost2 = gp.quicksum( [ cdem[c]*plants_to_start[(p, c)]\n",
    "                    for p in Periods for c in Centrales ] )\n",
    "cost3 = gp.quicksum( [ hydro_to_start[(p, c)]*cdem_hydro[c] + duration[p]*Y_hydro[(p, c)]*chour_hydro[c]\n",
    "                    for p in Periods for c in Centrales_hydro ] )\n",
    "\n",
    "total_cost = cost1 + cost2 + cost3\n",
    "obj = m.setObjective(total_cost, gp.GRB.MINIMIZE)\n",
    "\n",
    "### Add constraints\n",
    "\n",
    "## a) Demand on the network with thermic and hydroelectric plants - power to pump water\n",
    "c_demand = m.addConstrs( ( Y.sum(p, '*') + \n",
    "          gp.quicksum( ( Y_hydro[(p, c)]*Mw2Gw(P_nominal[c]) - heigth_to_fill[(p, c)]*Mw2Gw(P_PUMP) ) \n",
    "                      for c in Centrales_hydro)\n",
    "          >= demand[p] \n",
    "          for p in Periods ), name = \"Demand\" ) \n",
    "\n",
    "## b) Power constraints on the thermic plants\n",
    "c_p_min = m.addConstrs( (  Y[(p, c)] >= Mw2Gw(P_min[c])*X[(p, c)]\n",
    "                                  for c in Centrales for p in Periods ), name = \"Pmin\" )\n",
    "c_p_max = m.addConstrs( ( Y[(p, c)] <= Mw2Gw(P_max[c])*X[(p, c)] \n",
    "                                  for c in Centrales for p in Periods ), name = \"Pmax\" )\n",
    "# Add constraints on plants_to_start so plants_to_start = max(0, X[(p, c)] - X[(p-1, c))\n",
    "c_plants_to_start = m.addConstrs( ( plants_to_start[(p, c)] >= X[(p, c)] - X[(prev(p, cyclic=cyclic), c)] \n",
    "                                  for c in Centrales for p in Periods ), name = \"plants_to_start\" )\n",
    "if not cyclic:\n",
    "    c_plants_to_start_p0 = m.addConstrs( ( plants_to_start[(1, c)] == X[(1, c)] for c in Centrales ), name = \"plants_to_start_p0\" )\n",
    "\n",
    "## c) Hydro-electric : constraint on if a hydroelectric plant has to start at p\n",
    "c_hydro_to_start = m.addConstrs( \n",
    "    ( hydro_to_start[(p, c)] >= Y_hydro[(p, c)] - Y_hydro[(prev(p, cyclic=cyclic), c)] \n",
    "    for c in Centrales_hydro for p in Periods ), name = \"hydro_to_start\" )\n",
    "\n",
    "if not cyclic:\n",
    "    c_hydro_to_start_p0 = m.addConstrs( ( hydro_to_start[(1, c)] == Y_hydro[(1, c)] \n",
    "              for c in Centrales_hydro ), \n",
    "              name = \"hydro_to_start_p0\" )\n",
    "\n",
    "# Add constraint on the reserve\n",
    "c_reserve = m.addConstrs( ( gp.quicksum( (X[(p, c)]* Mw2Gw(P_max[c]) for c in Centrales) ) +\n",
    "                            gp.quicksum( (X[(p, c)]* Mw2Gw(P_nominal[c])- heigth_to_fill[(p, c)]*Mw2Gw(P_PUMP) for c in Centrales_hydro) ) \n",
    "                                >= 1.15 * demand[p] for p in Periods ), name = \"reserve_15%\" )\n",
    "\n",
    "# Add constraint to have the tanks filled at the end of p=5\n",
    "c_fill = m.addConstrs( (\n",
    "            gp.quicksum( ( Y_hydro[(p, c)]*lowering_rate[c]*duration[p] - heigth_to_fill[(p, c)]*Mw2Gw(P_PUMP)\n",
    "                      for p in Periods ) ) == 0 for c in Centrales_hydro ), \n",
    "            name = \"c_fill\" ) \n",
    "\n",
    "m.update()"
   ]
  },
  {
   "cell_type": "code",
   "execution_count": 15,
   "id": "4d8e6ff9-796e-458c-90ae-d2584243a58f",
   "metadata": {},
   "outputs": [],
   "source": [
    "m.write(\"PowerOptim_5_2.lp\")"
   ]
  },
  {
   "cell_type": "code",
   "execution_count": 16,
   "id": "e935b4bb-b148-4812-9071-6e95c1e252de",
   "metadata": {
    "scrolled": true
   },
   "outputs": [
    {
     "name": "stdout",
     "output_type": "stream",
     "text": [
      "Gurobi Optimizer version 10.0.2 build v10.0.2rc0 (win64)\n",
      "\n",
      "CPU model: 12th Gen Intel(R) Core(TM) i7-12700, instruction set [SSE2|AVX|AVX2]\n",
      "Thread count: 12 physical cores, 20 logical processors, using up to 20 threads\n",
      "\n",
      "Optimize a model with 67 rows, 75 columns and 215 nonzeros\n",
      "Model fingerprint: 0xf4176488\n",
      "Variable types: 25 continuous, 50 integer (20 binary)\n",
      "Coefficient statistics:\n",
      "  Matrix range     [8e-01, 4e+00]\n",
      "  Objective range  [3e+02, 2e+04]\n",
      "  Bounds range     [1e+00, 1e+01]\n",
      "  RHS range        [2e+01, 5e+01]\n",
      "Found heuristic solution: objective 1158570.0000\n",
      "Presolve time: 0.00s\n",
      "Presolved: 67 rows, 75 columns, 215 nonzeros\n",
      "Variable types: 25 continuous, 50 integer (20 binary)\n",
      "\n",
      "Root relaxation: objective 9.845143e+05, 27 iterations, 0.00 seconds (0.00 work units)\n",
      "\n",
      "    Nodes    |    Current Node    |     Objective Bounds      |     Work\n",
      " Expl Unexpl |  Obj  Depth IntInf | Incumbent    BestBd   Gap | It/Node Time\n",
      "\n",
      "     0     0 984514.286    0    7 1158570.00 984514.286  15.0%     -    0s\n",
      "H    0     0                    994435.00000 984514.286  1.00%     -    0s\n",
      "H    0     0                    991720.00000 984514.286  0.73%     -    0s\n",
      "H    0     0                    990970.00000 984514.286  0.65%     -    0s\n",
      "H    0     0                    989530.00000 984514.286  0.51%     -    0s\n",
      "     0     0 987623.333    0    2 989530.000 987623.333  0.19%     -    0s\n",
      "H    0     0                    987790.00000 987623.333  0.02%     -    0s\n",
      "     0     0 987623.333    0    2 987790.000 987623.333  0.02%     -    0s\n",
      "\n",
      "Cutting planes:\n",
      "  MIR: 4\n",
      "\n",
      "Explored 1 nodes (35 simplex iterations) in 0.02 seconds (0.00 work units)\n",
      "Thread count was 20 (of 20 available processors)\n",
      "\n",
      "Solution count 5: 987790 989530 990970 ... 1.15857e+06\n",
      "\n",
      "Optimal solution found (tolerance 1.00e-04)\n",
      "Best objective 9.877900000000e+05, best bound 9.877900000000e+05, gap 0.0000%\n"
     ]
    }
   ],
   "source": [
    "m.optimize()"
   ]
  },
  {
   "cell_type": "code",
   "execution_count": 17,
   "id": "28ea47dc-a16f-427f-a0c8-8d1d649f1183",
   "metadata": {},
   "outputs": [
    {
     "name": "stdout",
     "output_type": "stream",
     "text": [
      "{'to_fill_A': [0.0, 0.0, 0.0, 0.0, 0.0], 'to_fill_B': [0.0, 0.0, 0.0, 0.0, 0.0]}\n",
      "{'t_A': [0.0, 0.0, 0.0, 0.0, 0.0], 't_B': [0.0, 0.0, 0.0, 0.0, 0.0]}\n"
     ]
    }
   ],
   "source": [
    "ndict_h = {f\"to_fill_{t}\" : [v.x for v in heigth_to_fill.select('*', t)] for t in Centrales_hydro}\n",
    "print(ndict_h)\n",
    "ndict_h = {f\"t_{t}\" : [int(v.x)*Mw2Gw(P_nominal[t]) for v in Y_hydro.select('*', t)] for t in Centrales_hydro}\n",
    "print(ndict_h)"
   ]
  },
  {
   "cell_type": "code",
   "execution_count": 18,
   "id": "58336c87-5f63-4bc0-aa00-ab0b1d7fd6a1",
   "metadata": {},
   "outputs": [
    {
     "name": "stdout",
     "output_type": "stream",
     "text": [
      "{'obj': 987789.9999999998, 'lb': 987789.9999999998, 'gap': 0.0, 'time': 0.019999980926513672}\n",
      "plan to activate units: {'A': [12, 12, 12, 12, 12], 'B': [3, 8, 8, 10, 9], 'C': [0, 0, 0, 0, 0]} {'Hydro_A': [0.0, 0.0, 0.0, 0.0, 0.0], 'Hydro_B': [0.0, 0.0, 0.0, 0.0, 0.0]}\n"
     ]
    },
    {
     "data": {
      "image/png": "[encoded data removed]",
      "text/plain": [
       "<Figure size 1200x400 with 1 Axes>"
      ]
     },
     "metadata": {},
     "output_type": "display_data"
    }
   ],
   "source": [
    "# solution characteristics\n",
    "result = {'obj': m.objVal, 'lb': m.objBound,  'gap': m.mipGap, 'time': m.runtime}\n",
    "print(result)\n",
    "\n",
    "# optimal plan\n",
    "ndict = {t: [int(v.x) for v in X.select('*', t)] for t in Centrales}\n",
    "ndict_h = {f'Hydro_{t}': [int(v.x)*Mw2Gw(P_nominal[t]) for v in Y_hydro.select('*', t)] for t in Centrales_hydro}\n",
    "print(f\"plan to activate units: {ndict} {ndict_h}\")\n",
    "\n",
    "orderedgen = sorted(Centrales, key=lambda x: cvar[x])\n",
    "pdict = {t: [v.x for v in Y.select('*', t)] for t in orderedgen}\n",
    "for t in Centrales_hydro:\n",
    "     pdict[f'Hydro_{t}'] = [ int(v.x)*Mw2Gw(P_nominal[t]) for v in Y_hydro.select('*', t) ]\n",
    "powerdf = pd.DataFrame(data=pdict)\n",
    "\n",
    "fig, axs = plt.subplots(figsize=(12, 4))\n",
    "powerdf.plot.bar(stacked=True, ax=axs)\n",
    "axs.set_ylabel(\"power output (MW)\")\n",
    "fig.savefig(\"powergen_5_2.png\")\n",
    "plt.show()"
   ]
  },
  {
   "cell_type": "markdown",
   "id": "8a6b1df5-f652-4ebf-a0f0-0e9bd0d1b3a1",
   "metadata": {},
   "source": [
    "Le pompage rend l'option des centrales hydroliques moins rentables. Elles ne sont donc plus utilisés dans la solution et on se retrouve avec le même plant de production que le Merit Order (MO)."
   ]
  },
  {
   "cell_type": "code",
   "execution_count": null,
   "id": "ebfa71b1-798a-4413-bf94-6e833b47cb07",
   "metadata": {},
   "outputs": [],
   "source": []
  }
 ],
 "metadata": {
  "kernelspec": {
   "display_name": "Python 3 (ipykernel)",
   "language": "python",
   "name": "python3"
  },
  "language_info": {
   "codemirror_mode": {
    "name": "ipython",
    "version": 3
   },
   "file_extension": ".py",
   "mimetype": "text/x-python",
   "name": "python",
   "nbconvert_exporter": "python",
   "pygments_lexer": "ipython3",
   "version": "3.11.4"
  }
 },
 "nbformat": 4,
 "nbformat_minor": 5
}
