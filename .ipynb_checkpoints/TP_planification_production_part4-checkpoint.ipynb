{
 "cells": [
  {
   "cell_type": "markdown",
   "id": "6da3dea9-2542-488b-8be7-036f56dadb0f",
   "metadata": {},
   "source": [
    "# TD Optim Linéaire : Planification de la production d'électricité\n",
    "### Guillaume DESERMEAUX, Mastère OSE 2023\n",
    "(Sujet de Sophie demassey, CMA - Mines Paris-PSL) 5 Octobre 2023\n",
    "# Partie 4"
   ]
  },
  {
   "cell_type": "code",
   "execution_count": 1,
   "id": "b1ef02c7-59ca-4010-b861-089eab869125",
   "metadata": {},
   "outputs": [],
   "source": [
    "from itertools import product\n",
    "import pandas as pd\n",
    "import matplotlib.pyplot as plt\n",
    "\n",
    "import gurobipy as gp\n",
    "from gurobipy import  Model, GRB, multidict, tupledict # Object utile pour créer des dictionnaires à partir d'une table"
   ]
  },
  {
   "cell_type": "code",
   "execution_count": 2,
   "id": "0cc7941a-0962-4197-b9dc-95a565e4e18c",
   "metadata": {},
   "outputs": [],
   "source": [
    "Periods, start_time, stop_time, duration, demand = multidict({\n",
    "    1: [\"0h\", \"6h\", 6, 15],\n",
    "    2: [\"6h\", \"9h\", 3, 30],\n",
    "    3: [\"9h\", \"15h\", 6, 25],\n",
    "    4: [\"15h\", \"18h\", 3, 40],\n",
    "    5: [\"18h\", \"0h\", 6, 27]\n",
    "})\n",
    "\n",
    "Centrales, Ndisp, P_min, P_max, cbase, cvar, cdem, mycolor = multidict({\n",
    "    'A': [ 12, 850, 2000, 1000, 2, 2000, 'r'],\n",
    "    'B': [ 10, 1250, 1750, 2600, 1.3, 1000, 'g'],\n",
    "    'C': [5, 1500, 4000, 3000, 3, 500, 'b']\n",
    "})\n",
    "\n",
    "Centrales_hydro, P_nominal, lowering_rate, cdem_hydro, chour_hydro = multidict({\n",
    "    \"A\": [900, 0.31, 1500, 90],\n",
    "    \"B\": [1400, 0.47, 1200, 150],\n",
    "})\n",
    "\n",
    "Mw2Gw = lambda x : x / 1000\n",
    "Gw2Mw = lambda x : x * 1000"
   ]
  },
  {
   "cell_type": "markdown",
   "id": "1cc9d110-cb9e-4ce4-b8c0-e1a5daeb8060",
   "metadata": {},
   "source": [
    "## V.3) Pallier de fonctionnement\n",
    "Dans cette modélisation, On ajoute les 4 palliers de fonctionnements décrits. Ainsi, au lieu d'avoir Y_hydro binaire, il peut prendre une valeur de {0, 1, 2, 3, 4}."
   ]
  },
  {
   "cell_type": "code",
   "execution_count": 3,
   "id": "eb3b9d3d-2b09-40a0-8fb8-59d8a74531e7",
   "metadata": {},
   "outputs": [],
   "source": [
    "# Définition des caractéristiques\n",
    "Centrales_hydro = [\"A\", \"B\"]\n",
    "\n",
    "P_nominal =  tupledict([((\"A\", 1), 900), ((\"A\", 2), 950), ((\"A\", 3), 1000), ((\"A\", 4), 1100),\n",
    "                        ((\"B\", 1), 1400), ((\"B\", 2), 1500), ((\"B\", 3), 1600), ((\"B\", 4), 1700)])\n",
    "\n",
    "lowering_rate = tupledict([((\"A\", 1), 0.31), ((\"A\", 2), 0.33), ((\"A\", 3), 0.35), ((\"A\", 4), 0.38),\n",
    "                           ((\"B\", 1), 0.47), ((\"B\", 2), 0.50), ((\"B\", 3), 0.53), ((\"B\", 4), 0.56)])\n",
    "\n",
    "chour_hydro = tupledict([((\"A\", 1), 90), ((\"A\", 2), 95), ((\"A\", 3), 105), ((\"A\", 4), 120),\n",
    "                         ((\"B\", 1), 150), ((\"B\", 2), 165), ((\"B\", 3), 185), ((\"B\", 4), 210)])\n",
    "\n",
    "P_PUMP = 3000 #MWH/m"
   ]
  },
  {
   "cell_type": "code",
   "execution_count": 4,
   "id": "2f307789-04dd-4960-9499-8d925a00b97c",
   "metadata": {},
   "outputs": [],
   "source": [
    "def prev(period, cyclic=True):\n",
    "    \"\"\" Return the index of the previous period \"\"\"\n",
    "    if cyclic:\n",
    "        return( 5 if period==1 else period-1 )\n",
    "    else:\n",
    "        return( 1 if period==1 else period-1 )"
   ]
  },
  {
   "cell_type": "code",
   "execution_count": 5,
   "id": "b3f73603-1e98-4a96-9c2b-80eadb71a28f",
   "metadata": {},
   "outputs": [
    {
     "name": "stdout",
     "output_type": "stream",
     "text": [
      "Set parameter TokenServer to value \"dev.cma.mines-paristech.fr\"\n"
     ]
    }
   ],
   "source": [
    "# Cyclic option\n",
    "cyclic=True\n",
    "\n",
    "# Create a new model\n",
    "m = gp.Model()\n",
    "\n",
    "## Create variables\n",
    "# Total thermal power of the plants A, B, C for every period\n",
    "Y = m.addVars(Periods, Centrales, \n",
    "            lb = 0,\n",
    "            #ub = [ Mw2Gw(P_max[c])*Ndisp[c] for c, p in product(Centrales, Periods) ],\n",
    "            name = 'Production',\n",
    "            vtype = GRB.CONTINUOUS)\n",
    "# Number of plant turned of at every period\n",
    "X = m.addVars(Periods, Centrales,\n",
    "            lb = 0,\n",
    "            ub = [ (Ndisp[c] for p in Periods for c in Centrales ) ],\n",
    "            name = 'Number_plants', \n",
    "            vtype = GRB.INTEGER)\n",
    "# Number of plants to start\n",
    "plants_to_start = m.addVars(Periods, Centrales,\n",
    "            lb = 0,\n",
    "            name=\"plants_to_start\",\n",
    "            vtype = GRB.INTEGER)\n",
    "\n",
    "# Binary state of the hydroelectric plant for every operating level\n",
    "Y_hydro = {}\n",
    "for i in range(1,5):\n",
    "    Y_hydro[i] = m.addVars(Periods, Centrales_hydro,\n",
    "            vtype = GRB.BINARY, \n",
    "            name=f\"Hydro_plant_state_level_{i}\")\n",
    "# Binary number : 1 - the hydroelectric plant starts at p /\n",
    "#                 0 - it has already started or stay off\n",
    "hydro_to_start = m.addVars(Periods, Centrales_hydro,\n",
    "            name=\"hydro_to_start\",\n",
    "            vtype = GRB.BINARY)\n",
    "# Variable corresponding to the number of meters fullfilled at p\n",
    "heigth_to_fill = m.addVars(Periods, Centrales_hydro,\n",
    "            name=\"heigth_to_fill\",\n",
    "            vtype = GRB.CONTINUOUS)\n",
    "m.update()\n",
    "\n",
    "## Set objective function\n",
    "# Thermic part\n",
    "cost1 = gp.quicksum( [ duration[p]*(X[(p, c)]*(cbase[c] - cvar[c]*P_min[c]) + cvar[c]*Gw2Mw(Y[(p, c)])) \n",
    "                    for p in Periods for c in Centrales ] ) \n",
    "cost2 = gp.quicksum( [ cdem[c]*plants_to_start[(p, c)]\n",
    "                    for p in Periods for c in Centrales ] )\n",
    "# Hydro part\n",
    "cost3 = gp.quicksum( [ hydro_to_start[(p, c)]*cdem_hydro[c] + duration[p]*chour_hydro[c, l]*Y_hydro[l][(p, c)]\n",
    "                    for p in Periods for c in Centrales_hydro for l in range(1,5) ] )\n",
    "\n",
    "total_cost = cost1 + cost2 + cost3\n",
    "obj = m.setObjective(total_cost, gp.GRB.MINIMIZE)\n",
    "\n",
    "### Add constraints\n",
    "\n",
    "## a) Demand on the network with thermic and hydroelectric plants - power to pump water\n",
    "c_demand = m.addConstrs( ( Y.sum(p, '*') + \n",
    "          gp.quicksum( ( Mw2Gw(P_nominal[c,l]*Y_hydro[l][(p, c)]) \n",
    "                        - heigth_to_fill[(p, c)]*Mw2Gw(P_PUMP) ) \n",
    "                      for c in Centrales_hydro for l in range(1,5) )\n",
    "          >= demand[p] \n",
    "          for p in Periods ), name = \"Demand\" ) \n",
    "\n",
    "## b) Power constraints on the thermic plants\n",
    "c_p_min = m.addConstrs( (  Y[(p, c)] >= Mw2Gw(P_min[c])*X[(p, c)]\n",
    "                                  for c in Centrales for p in Periods ), name = \"Pmin\" )\n",
    "c_p_max = m.addConstrs( ( Y[(p, c)] <= Mw2Gw(P_max[c])*X[(p, c)] \n",
    "                                  for c in Centrales for p in Periods ), name = \"Pmax\" )\n",
    "# Add constraints on plants_to_start so plants_to_start = max(0, X[(p, c)] - X[(p-1, c))\n",
    "c_plants_to_start = m.addConstrs( ( plants_to_start[(p, c)] >= X[(p, c)] - X[(prev(p, cyclic=cyclic), c)] \n",
    "                                  for c in Centrales for p in Periods ), name = \"plants_to_start\" )\n",
    "if not cyclic:\n",
    "    c_plants_to_start_p0 = m.addConstrs( ( plants_to_start[(1, c)] == X[(1, c)] for c in Centrales ), name = \"plants_to_start_p0\" )\n",
    "\n",
    "## c) Hydro-electric : constraint on if a hydroelectric plant has to start at p\n",
    "c_hydro_to_start = m.addConstrs( \n",
    "    ( hydro_to_start[(p, c)] >= \n",
    "     gp.quicksum( ( Y_hydro[l][(p, c)] - Y_hydro[l][(prev(p, cyclic=cyclic), c)] \n",
    "                   for l in range(1,5) ) )                  \n",
    "    for c in Centrales_hydro for p in Periods  ), name = \"num_hydro_to_start\" )\n",
    "\n",
    "if not cyclic:\n",
    "    c_hydro_to_start_p0 = m.addConstrs( ( hydro_to_start[(1, c)] == ( Y_hydro[l][(1, c)] for l in range(1,5) )\n",
    "              for c in Centrales_hydro ), \n",
    "              name = \"hydro_to_start_p0\" )\n",
    "\n",
    "# Add constraint on the reserve\n",
    "c_reserve = m.addConstrs( ( gp.quicksum( (X[(p, c)]* Mw2Gw(P_max[c]) for c in Centrales) ) +\n",
    "                            gp.quicksum( ( Mw2Gw(P_nominal[c, l])*Y_hydro[l][(p, c)] - heigth_to_fill[(p, c)]*Mw2Gw(P_PUMP)\n",
    "                                          for l in range(1,5) for c in Centrales_hydro) )\n",
    "                                >= 1.15 * demand[p] for p in Periods ), name = \"reserve_15%\" )\n",
    "\n",
    "# Add constraint to have the tanks filled at the end of p=5\n",
    "c_fill = m.addConstrs( (\n",
    "            gp.quicksum( ( lowering_rate[c, l]*Y_hydro[l][(p, c)]*duration[p] \n",
    "                          - heigth_to_fill[(p, c)]*Mw2Gw(P_PUMP)\n",
    "                      for p in Periods for l in range(1,5) ) ) == 0 for c in Centrales_hydro ), \n",
    "            name = \"c_fill\" ) \n",
    "\n",
    "# Constraint on hydro level\n",
    "c_hydro_level =  m.addConstrs( (\n",
    "            gp.quicksum( ( Y_hydro[l][(p, c)] for l in range(1,5) ) ) <= 1\n",
    "                       for p in Periods for c in Centrales_hydro ), \n",
    "                       name = \"c_hydro_level\" ) \n",
    "\n",
    "m.update()"
   ]
  },
  {
   "cell_type": "code",
   "execution_count": 6,
   "id": "fcd260fe-0c8f-4c1e-a4b5-21f6f73ca75f",
   "metadata": {},
   "outputs": [],
   "source": [
    "m.write(\"PowerOptim_5_3.lp\")"
   ]
  },
  {
   "cell_type": "code",
   "execution_count": 7,
   "id": "04001289-7f4e-486f-9d78-8bd1d6ac1e99",
   "metadata": {},
   "outputs": [
    {
     "name": "stdout",
     "output_type": "stream",
     "text": [
      "Gurobi Optimizer version 10.0.2 build v10.0.2rc0 (win64)\n",
      "\n",
      "CPU model: 12th Gen Intel(R) Core(TM) i7-12700, instruction set [SSE2|AVX|AVX2]\n",
      "Thread count: 12 physical cores, 20 logical processors, using up to 20 threads\n",
      "\n",
      "Optimize a model with 77 rows, 105 columns and 415 nonzeros\n",
      "Model fingerprint: 0xa4ea68e9\n",
      "Variable types: 25 continuous, 80 integer (50 binary)\n",
      "Coefficient statistics:\n",
      "  Matrix range     [8e-01, 1e+01]\n",
      "  Objective range  [3e+02, 2e+04]\n",
      "  Bounds range     [1e+00, 1e+01]\n",
      "  RHS range        [1e+00, 5e+01]\n",
      "Found heuristic solution: objective 1254224.0000\n",
      "Presolve time: 0.00s\n",
      "Presolved: 77 rows, 105 columns, 415 nonzeros\n",
      "Variable types: 25 continuous, 80 integer (50 binary)\n",
      "\n",
      "Root relaxation: objective 9.851643e+05, 53 iterations, 0.00 seconds (0.00 work units)\n",
      "\n",
      "    Nodes    |    Current Node    |     Objective Bounds      |     Work\n",
      " Expl Unexpl |  Obj  Depth IntInf | Incumbent    BestBd   Gap | It/Node Time\n",
      "\n",
      "     0     0 985164.286    0    9 1254224.00 985164.286  21.5%     -    0s\n",
      "H    0     0                    997920.00000 985164.286  1.28%     -    0s\n",
      "H    0     0                    991970.00000 985164.286  0.69%     -    0s\n",
      "H    0     0                    988540.00000 988540.000  0.00%     -    0s\n",
      "     0     0          -    0      988540.000 988540.000  0.00%     -    0s\n",
      "\n",
      "Cutting planes:\n",
      "  Gomory: 1\n",
      "  MIR: 6\n",
      "\n",
      "Explored 1 nodes (59 simplex iterations) in 0.02 seconds (0.00 work units)\n",
      "Thread count was 20 (of 20 available processors)\n",
      "\n",
      "Solution count 4: 988540 991970 997920 1.25422e+06 \n",
      "\n",
      "Optimal solution found (tolerance 1.00e-04)\n",
      "Best objective 9.885400000000e+05, best bound 9.885400000000e+05, gap 0.0000%\n"
     ]
    }
   ],
   "source": [
    "m.optimize()"
   ]
  },
  {
   "cell_type": "code",
   "execution_count": 8,
   "id": "10ae9981-5c77-48bd-8ee9-8047c62544a1",
   "metadata": {},
   "outputs": [
    {
     "data": {
      "text/plain": [
       "{1: {(1, 'A'): <gurobi.Var Hydro_plant_state_level_1[1,A] (value 0.0)>,\n",
       "  (1, 'B'): <gurobi.Var Hydro_plant_state_level_1[1,B] (value -0.0)>,\n",
       "  (2, 'A'): <gurobi.Var Hydro_plant_state_level_1[2,A] (value -0.0)>,\n",
       "  (2, 'B'): <gurobi.Var Hydro_plant_state_level_1[2,B] (value -0.0)>,\n",
       "  (3, 'A'): <gurobi.Var Hydro_plant_state_level_1[3,A] (value -0.0)>,\n",
       "  (3, 'B'): <gurobi.Var Hydro_plant_state_level_1[3,B] (value 0.0)>,\n",
       "  (4, 'A'): <gurobi.Var Hydro_plant_state_level_1[4,A] (value 0.0)>,\n",
       "  (4, 'B'): <gurobi.Var Hydro_plant_state_level_1[4,B] (value -0.0)>,\n",
       "  (5, 'A'): <gurobi.Var Hydro_plant_state_level_1[5,A] (value -0.0)>,\n",
       "  (5, 'B'): <gurobi.Var Hydro_plant_state_level_1[5,B] (value -0.0)>},\n",
       " 2: {(1, 'A'): <gurobi.Var Hydro_plant_state_level_2[1,A] (value -0.0)>,\n",
       "  (1, 'B'): <gurobi.Var Hydro_plant_state_level_2[1,B] (value -0.0)>,\n",
       "  (2, 'A'): <gurobi.Var Hydro_plant_state_level_2[2,A] (value -0.0)>,\n",
       "  (2, 'B'): <gurobi.Var Hydro_plant_state_level_2[2,B] (value -0.0)>,\n",
       "  (3, 'A'): <gurobi.Var Hydro_plant_state_level_2[3,A] (value -0.0)>,\n",
       "  (3, 'B'): <gurobi.Var Hydro_plant_state_level_2[3,B] (value -0.0)>,\n",
       "  (4, 'A'): <gurobi.Var Hydro_plant_state_level_2[4,A] (value -0.0)>,\n",
       "  (4, 'B'): <gurobi.Var Hydro_plant_state_level_2[4,B] (value -0.0)>,\n",
       "  (5, 'A'): <gurobi.Var Hydro_plant_state_level_2[5,A] (value -0.0)>,\n",
       "  (5, 'B'): <gurobi.Var Hydro_plant_state_level_2[5,B] (value -0.0)>},\n",
       " 3: {(1, 'A'): <gurobi.Var Hydro_plant_state_level_3[1,A] (value -0.0)>,\n",
       "  (1, 'B'): <gurobi.Var Hydro_plant_state_level_3[1,B] (value -0.0)>,\n",
       "  (2, 'A'): <gurobi.Var Hydro_plant_state_level_3[2,A] (value -0.0)>,\n",
       "  (2, 'B'): <gurobi.Var Hydro_plant_state_level_3[2,B] (value -0.0)>,\n",
       "  (3, 'A'): <gurobi.Var Hydro_plant_state_level_3[3,A] (value -0.0)>,\n",
       "  (3, 'B'): <gurobi.Var Hydro_plant_state_level_3[3,B] (value -0.0)>,\n",
       "  (4, 'A'): <gurobi.Var Hydro_plant_state_level_3[4,A] (value -0.0)>,\n",
       "  (4, 'B'): <gurobi.Var Hydro_plant_state_level_3[4,B] (value -0.0)>,\n",
       "  (5, 'A'): <gurobi.Var Hydro_plant_state_level_3[5,A] (value -0.0)>,\n",
       "  (5, 'B'): <gurobi.Var Hydro_plant_state_level_3[5,B] (value -0.0)>},\n",
       " 4: {(1, 'A'): <gurobi.Var Hydro_plant_state_level_4[1,A] (value -0.0)>,\n",
       "  (1, 'B'): <gurobi.Var Hydro_plant_state_level_4[1,B] (value -0.0)>,\n",
       "  (2, 'A'): <gurobi.Var Hydro_plant_state_level_4[2,A] (value -0.0)>,\n",
       "  (2, 'B'): <gurobi.Var Hydro_plant_state_level_4[2,B] (value 0.0)>,\n",
       "  (3, 'A'): <gurobi.Var Hydro_plant_state_level_4[3,A] (value -0.0)>,\n",
       "  (3, 'B'): <gurobi.Var Hydro_plant_state_level_4[3,B] (value -0.0)>,\n",
       "  (4, 'A'): <gurobi.Var Hydro_plant_state_level_4[4,A] (value -0.0)>,\n",
       "  (4, 'B'): <gurobi.Var Hydro_plant_state_level_4[4,B] (value 0.0)>,\n",
       "  (5, 'A'): <gurobi.Var Hydro_plant_state_level_4[5,A] (value -0.0)>,\n",
       "  (5, 'B'): <gurobi.Var Hydro_plant_state_level_4[5,B] (value -0.0)>}}"
      ]
     },
     "execution_count": 8,
     "metadata": {},
     "output_type": "execute_result"
    }
   ],
   "source": [
    " Y_hydro"
   ]
  },
  {
   "cell_type": "code",
   "execution_count": 12,
   "id": "196d9a50-7e1f-4854-b7b2-a60a8f4a1159",
   "metadata": {},
   "outputs": [
    {
     "data": {
      "text/plain": [
       "{(1, 'A'): <gurobi.Var heigth_to_fill[1,A] (value 0.0)>,\n",
       " (1, 'B'): <gurobi.Var heigth_to_fill[1,B] (value 0.0)>,\n",
       " (2, 'A'): <gurobi.Var heigth_to_fill[2,A] (value 0.0)>,\n",
       " (2, 'B'): <gurobi.Var heigth_to_fill[2,B] (value 0.0)>,\n",
       " (3, 'A'): <gurobi.Var heigth_to_fill[3,A] (value 0.0)>,\n",
       " (3, 'B'): <gurobi.Var heigth_to_fill[3,B] (value 0.0)>,\n",
       " (4, 'A'): <gurobi.Var heigth_to_fill[4,A] (value 0.0)>,\n",
       " (4, 'B'): <gurobi.Var heigth_to_fill[4,B] (value 0.0)>,\n",
       " (5, 'A'): <gurobi.Var heigth_to_fill[5,A] (value 0.0)>,\n",
       " (5, 'B'): <gurobi.Var heigth_to_fill[5,B] (value 0.0)>}"
      ]
     },
     "execution_count": 12,
     "metadata": {},
     "output_type": "execute_result"
    }
   ],
   "source": [
    "heigth_to_fill"
   ]
  },
  {
   "cell_type": "code",
   "execution_count": 11,
   "id": "b2f69a8c-6192-4cee-8128-d8cd7af04359",
   "metadata": {},
   "outputs": [
    {
     "name": "stdout",
     "output_type": "stream",
     "text": [
      "{'obj': 988540.0, 'lb': 988540.0, 'gap': 0.0, 'time': 0.018999814987182617}\n",
      "plan to activate units: {'A': [12, 12, 12, 12, 12], 'B': [3, 8, 8, 9, 9], 'C': [0, 0, 0, 2, 0]} {'A': [0, 0, 0, 0, 0], 'B': [0, 0, 0, 0, 0]}\n"
     ]
    },
    {
     "data": {
      "image/png": "[encoded data removed]",
      "text/plain": [
       "<Figure size 1200x400 with 1 Axes>"
      ]
     },
     "metadata": {},
     "output_type": "display_data"
    }
   ],
   "source": [
    "# solution characteristics\n",
    "result = {'obj': m.objVal, 'lb': m.objBound,  'gap': m.mipGap, 'time': m.runtime}\n",
    "print(result)\n",
    "\n",
    "# optimal plan\n",
    "ndict = {t: [int(v.x) for v in X.select('*', t)] for t in Centrales}\n",
    "#ndict_h = {t: [int(v.x)*Mw2Gw(P_nominal[t]) for v in Y_hydro.select('*', t)] for t in Centrales_hydro}\n",
    "\n",
    "ndict_h = {t: [max([ int(Y_hydro[l][(p, t)].x * Mw2Gw(P_nominal[t,l]) ) for l in range(1,5)] ) \n",
    "               for p in Periods ] for t in Centrales_hydro} \n",
    "\n",
    "print(f\"plan to activate units: {ndict} {ndict_h}\")\n",
    "\n",
    "orderedgen = sorted(Centrales, key=lambda x: cvar[x])\n",
    "pdict = {t: [v.x for v in Y.select('*', t)] for t in orderedgen}\n",
    "for t in Centrales_hydro:\n",
    "     pdict[f'Hydro_{t}'] = [max([ int(Y_hydro[l][(p, t)].x) * Mw2Gw(P_nominal[t,l]) for l in range(1,5)] ) for p in Periods]\n",
    "powerdf = pd.DataFrame(data=pdict)\n",
    "\n",
    "fig, axs = plt.subplots(figsize=(12, 4))\n",
    "powerdf.plot.bar(stacked=True, ax=axs)\n",
    "axs.set_ylabel(\"power output (MW)\")\n",
    "fig.savefig(\"powergen_5_3.png\")\n",
    "plt.show()"
   ]
  },
  {
   "cell_type": "markdown",
   "id": "856fb574-2260-4833-9be0-ca971b60c0a0",
   "metadata": {},
   "source": [
    "On remarque que cette fois, les centrales hydroliques ne sont plus choisies une fois de plus.\n",
    "\n",
    "## V.4) Exclusion pompage et génération hydro\n",
    "Dans cette modélisation, on ajoute une contrainte pour eviter de pomper au même moment que l'on utilise le barrage.\n",
    "\n",
    "\\sum_{t=TYPES} C_{start_t} \\times S_{p t} + \\Delta_{p} \\sum_{t=TYPES}  C_{base} \\times X_{p t} + C_{mwh_t} \\times (Y_{p t} - X_{p t}P_{t}^{min})\n",
    "\n",
    "\\begin{align}\n",
    "  \\tag{Contrainte pompage/génération}\n",
    "\\forall p \\in [1,5], \\forall c \\in \\text{[\"A\", \"B\"]}  h_{to_fill}[p, c] \\leq (1 - \\sum_{l=1}^{4}[Y_{hydro}(l)[p, c]] ) * M\n",
    "\\end{align}"
   ]
  },
  {
   "cell_type": "code",
   "execution_count": null,
   "id": "9eedca44-fce2-49f1-8345-b308d2b69706",
   "metadata": {},
   "outputs": [],
   "source": [
    "# Constraint on hydro level\n",
    "M = 10000\n",
    "\n",
    "c_hydro_level =  m.addConstrs( ( heigth_to_fill[(p, c)] <=\n",
    "            ( 1 - gp.quicksum( ( Y_hydro[l][(p, c)] for l in range(1,5) ) ) ) * M\n",
    "                       for p in Periods for c in Centrales_hydro ), name = \"c_hydro_level\" ) \n",
    "\n",
    "m.update()"
   ]
  },
  {
   "cell_type": "code",
   "execution_count": null,
   "id": "f2d08271-3c66-426a-ade3-8f71f37ba0fb",
   "metadata": {},
   "outputs": [],
   "source": [
    "m.optimize()"
   ]
  }
 ],
 "metadata": {
  "kernelspec": {
   "display_name": "Python 3 (ipykernel)",
   "language": "python",
   "name": "python3"
  },
  "language_info": {
   "codemirror_mode": {
    "name": "ipython",
    "version": 3
   },
   "file_extension": ".py",
   "mimetype": "text/x-python",
   "name": "python",
   "nbconvert_exporter": "python",
   "pygments_lexer": "ipython3",
   "version": "3.11.4"
  }
 },
 "nbformat": 4,
 "nbformat_minor": 5
}
